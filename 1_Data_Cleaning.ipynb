{
  "cells": [
    {
      "cell_type": "markdown",
      "metadata": {
        "id": "-0aW8_526nAN"
      },
      "source": [
        "# Inferential statistics\n",
        "## Part I - Data Cleaning\n",
        "\n",
        "Your family is very passionate about basketball. You always have discussions over players, games, statistics and whatnot. As you can imagine those discussions never reach a conclusion since everyone is simply sharing their opinion with no statistics to back them up!\n",
        "\n",
        "![](../images/basket.jpg)\n",
        "\n",
        "Since you are attending a data analysis bootcamp you'd like to take advantage of your newfound knowledge to finally put an end to your family's discussions.\n",
        "\n",
        "Luckily we have found a dataset containing data related to the players of the WNBA for the 2016-2017 season that we can use.\n",
        "\n",
        "Let's start with cleaning the data and then we'll continue with a general exploratory analysis and some inferential statistics.\n",
        "\n",
        "### Dataset\n",
        "\n",
        "The dataset we will be using contains the statistics from the WNBA players for the 2016-2017 season. You will be able to find more information on the dataset in the [codebook](../data/codebook.md) uploaded to the repository.\n",
        "\n",
        "### Libraries\n",
        "\n",
        "First we'll import the necessary libraries first and increase the maximum number of displayed columns so you will be able to see all the dataset in the same window."
      ]
    },
    {
      "cell_type": "code",
      "execution_count": 29,
      "metadata": {
        "id": "r9T_fOPa6nAQ"
      },
      "outputs": [],
      "source": [
        "import pandas as pd\n",
        "pd.set_option('display.max_columns', 100)"
      ]
    },
    {
      "cell_type": "markdown",
      "metadata": {
        "id": "iIxcvuNz6nAS"
      },
      "source": [
        "### Load the dataset\n",
        "\n",
        "Load the dataset into a df called `wnba` and take an initial look at it using the `head()` method."
      ]
    },
    {
      "cell_type": "code",
      "execution_count": null,
      "metadata": {
        "id": "yPrvj9F46nAS"
      },
      "outputs": [],
      "source": [
        "wnba = pd.read_csv(\"/content/wnba.csv\")\n",
        "wnba.head()"
      ]
    },
    {
      "cell_type": "code",
      "source": [
        "print(f\"The current shape of our dataframe is {wnba.shape}\")"
      ],
      "metadata": {
        "id": "zu8XCg9g8ct9",
        "colab": {
          "base_uri": "https://localhost:8080/"
        },
        "outputId": "77bfcac1-2c91-4fbc-ea7e-4a1ca984e7e9"
      },
      "execution_count": 31,
      "outputs": [
        {
          "output_type": "stream",
          "name": "stdout",
          "text": [
            "The current shape of our dataframe is (143, 32)\n"
          ]
        }
      ]
    },
    {
      "cell_type": "markdown",
      "metadata": {
        "id": "8kNFHCIJ6nAT"
      },
      "source": [
        "### Check NaN values\n",
        "As you know, one of our first steps is to check if there are any NaN values in the dataset to find any issues. Look for the columns that cointain NaN values and count how many rows there are with that value."
      ]
    },
    {
      "cell_type": "code",
      "execution_count": null,
      "metadata": {
        "id": "dTYYJtiu6nAT"
      },
      "outputs": [],
      "source": [
        "wnba.isnull().sum()\n",
        "# only 2 null values, probably same row because if we miss the weight, off course you won't have BMI. Still, I wouldn´t drop the row,\n",
        "# because you still can have access to all gaming statitics/features of the athelet."
      ]
    },
    {
      "cell_type": "markdown",
      "metadata": {
        "id": "GunQuifz6nAU"
      },
      "source": [
        "We can see that there are only two NaNs in the whole dataset, one in the Weight column and one in the BMI one. Let's look at the actual rows that contain the NaN values."
      ]
    },
    {
      "cell_type": "code",
      "execution_count": null,
      "metadata": {
        "id": "T-NicFw16nAU"
      },
      "outputs": [],
      "source": [
        "nan_row = wnba[wnba[\"Weight\"].isnull() & wnba[\"BMI\"].isnull()]\n",
        "nan_row\n",
        "# exactly what I had in mind"
      ]
    },
    {
      "cell_type": "markdown",
      "metadata": {
        "id": "SQWsKMUg6nAV"
      },
      "source": [
        "It looks like there is only a single row that has NaN values in it, which is good! Just in case, let's check how much removing a single row may influence our dataset by calculating the percentage of values we will be removing."
      ]
    },
    {
      "cell_type": "code",
      "execution_count": null,
      "metadata": {
        "id": "B1FE8WJU6nAV"
      },
      "outputs": [],
      "source": [
        "shape_original_values = wnba.shape\n",
        "print(\"Number of rows and columns is:\", wnba.shape)\n",
        "original_values = wnba.size\n",
        "print(\"Size - total entries - is:\", original_values)"
      ]
    },
    {
      "cell_type": "code",
      "source": [
        "# so, if I remove 1 row from 143:\n",
        "one_row_data_percentage = round((1/143) * 100, 3)\n",
        "print(\" I will be removing\",one_row_data_percentage,\"%\")"
      ],
      "metadata": {
        "colab": {
          "base_uri": "https://localhost:8080/"
        },
        "id": "KfQKPxkK_X_G",
        "outputId": "01463a5e-a346-4558-ff7f-2264797f0234"
      },
      "execution_count": 35,
      "outputs": [
        {
          "output_type": "stream",
          "name": "stdout",
          "text": [
            " I will be removing 0.699 %\n"
          ]
        }
      ]
    },
    {
      "cell_type": "code",
      "source": [
        "# so, if I remove 2 entries from 4576:\n",
        "two_entries_data_percentage = round((2/4576) * 100, 3)\n",
        "print(\" I will be removing\",two_entries_data_percentage,\"%\")"
      ],
      "metadata": {
        "id": "CtKdXtBc_071",
        "colab": {
          "base_uri": "https://localhost:8080/"
        },
        "outputId": "b0c95ecc-ec5b-4170-ade4-5185a4d5ee62"
      },
      "execution_count": 36,
      "outputs": [
        {
          "output_type": "stream",
          "name": "stdout",
          "text": [
            " I will be removing 0.044 %\n"
          ]
        }
      ]
    },
    {
      "cell_type": "markdown",
      "metadata": {
        "id": "fHGaOpkU6nAV"
      },
      "source": [
        "It is very important to be as careful as possible when dealing with NaN values and only drop data when it is strictly necessary. This decision can also be influenced by the nature of our analysis. If, for example, our analysis will not require the Weight and BMI of the players at all we can simply keep the row, given that the NaN values are only present in the Weight and BMI column.\n",
        "\n",
        "In this specific example, let's say our decision is to drop it. Write some code to drop the NaN values."
      ]
    },
    {
      "cell_type": "code",
      "execution_count": 37,
      "metadata": {
        "id": "U6EFcpvg6nAW",
        "colab": {
          "base_uri": "https://localhost:8080/",
          "height": 634
        },
        "outputId": "a26494d7-b08c-4305-fb1c-82d92be15bad"
      },
      "outputs": [
        {
          "output_type": "execute_result",
          "data": {
            "text/plain": [
              "                 Name Team  Pos  Height  Weight        BMI Birth_Place  \\\n",
              "0       Aerial Powers  DAL    F     183    71.0  21.200991          US   \n",
              "1         Alana Beard   LA  G/F     185    73.0  21.329438          US   \n",
              "2        Alex Bentley  CON    G     170    69.0  23.875433          US   \n",
              "3     Alex Montgomery  SAN  G/F     185    84.0  24.543462          US   \n",
              "4        Alexis Jones  MIN    G     175    78.0  25.469388          US   \n",
              "..                ...  ...  ...     ...     ...        ...         ...   \n",
              "138     Tiffany Hayes  ATL    G     178    70.0  22.093170          US   \n",
              "139   Tiffany Jackson   LA    F     191    84.0  23.025685          US   \n",
              "140  Tiffany Mitchell  IND    G     175    69.0  22.530612          US   \n",
              "141      Tina Charles   NY  F/C     193    84.0  22.550941          US   \n",
              "142     Yvonne Turner  PHO    G     175    59.0  19.265306          US   \n",
              "\n",
              "              Birthdate  Age         College Experience  Games Played  MIN  \\\n",
              "0      January 17, 1994   23  Michigan State          2             8  173   \n",
              "1          May 14, 1982   35            Duke         12            30  947   \n",
              "2      October 27, 1990   26      Penn State          4            26  617   \n",
              "3     December 11, 1988   28    Georgia Tech          6            31  721   \n",
              "4        August 5, 1994   23          Baylor          R            24  137   \n",
              "..                  ...  ...             ...        ...           ...  ...   \n",
              "138  September 20, 1989   27     Connecticut          6            29  861   \n",
              "139      April 26, 1985   32           Texas          9            22  127   \n",
              "140  September 23, 1984   32  South Carolina          2            27  671   \n",
              "141        May 12, 1988   29     Connecticut          8            29  952   \n",
              "142    October 13, 1987   29        Nebraska          2            30  356   \n",
              "\n",
              "     FGM  FGA   FG%  3PM  3PA   3P%  FTM  FTA   FT%  OREB  DREB  REB  AST  \\\n",
              "0     30   85  35.3   12   32  37.5   21   26  80.8     6    22   28   12   \n",
              "1     90  177  50.8    5   18  27.8   32   41  78.0    19    82  101   72   \n",
              "2     82  218  37.6   19   64  29.7   35   42  83.3     4    36   40   78   \n",
              "3     75  195  38.5   21   68  30.9   17   21  81.0    35   134  169   65   \n",
              "4     16   50  32.0    7   20  35.0   11   12  91.7     3     9   12   12   \n",
              "..   ...  ...   ...  ...  ...   ...  ...  ...   ...   ...   ...  ...  ...   \n",
              "138  144  331  43.5   43  112  38.4  136  161  84.5    28    89  117   69   \n",
              "139   12   25  48.0    0    1   0.0    4    6  66.7     5    18   23    3   \n",
              "140   83  238  34.9   17   69  24.6   94  102  92.2    16    70   86   39   \n",
              "141  227  509  44.6   18   56  32.1  110  135  81.5    56   212  268   75   \n",
              "142   59  140  42.1   11   47  23.4   22   28  78.6    11    13   24   30   \n",
              "\n",
              "     STL  BLK  TO  PTS  DD2  TD3  \n",
              "0      3    6  12   93    0    0  \n",
              "1     63   13  40  217    0    0  \n",
              "2     22    3  24  218    0    0  \n",
              "3     20   10  38  188    2    0  \n",
              "4      7    0  14   50    0    0  \n",
              "..   ...  ...  ..  ...  ...  ...  \n",
              "138   37    8  50  467    0    0  \n",
              "139    1    3   8   28    0    0  \n",
              "140   31    5  40  277    0    0  \n",
              "141   21   22  71  582   11    0  \n",
              "142   18    1  32  151    0    0  \n",
              "\n",
              "[142 rows x 32 columns]"
            ],
            "text/html": [
              "\n",
              "  <div id=\"df-6335dd9d-da18-4c9d-93ae-1a408bf834ac\" class=\"colab-df-container\">\n",
              "    <div>\n",
              "<style scoped>\n",
              "    .dataframe tbody tr th:only-of-type {\n",
              "        vertical-align: middle;\n",
              "    }\n",
              "\n",
              "    .dataframe tbody tr th {\n",
              "        vertical-align: top;\n",
              "    }\n",
              "\n",
              "    .dataframe thead th {\n",
              "        text-align: right;\n",
              "    }\n",
              "</style>\n",
              "<table border=\"1\" class=\"dataframe\">\n",
              "  <thead>\n",
              "    <tr style=\"text-align: right;\">\n",
              "      <th></th>\n",
              "      <th>Name</th>\n",
              "      <th>Team</th>\n",
              "      <th>Pos</th>\n",
              "      <th>Height</th>\n",
              "      <th>Weight</th>\n",
              "      <th>BMI</th>\n",
              "      <th>Birth_Place</th>\n",
              "      <th>Birthdate</th>\n",
              "      <th>Age</th>\n",
              "      <th>College</th>\n",
              "      <th>Experience</th>\n",
              "      <th>Games Played</th>\n",
              "      <th>MIN</th>\n",
              "      <th>FGM</th>\n",
              "      <th>FGA</th>\n",
              "      <th>FG%</th>\n",
              "      <th>3PM</th>\n",
              "      <th>3PA</th>\n",
              "      <th>3P%</th>\n",
              "      <th>FTM</th>\n",
              "      <th>FTA</th>\n",
              "      <th>FT%</th>\n",
              "      <th>OREB</th>\n",
              "      <th>DREB</th>\n",
              "      <th>REB</th>\n",
              "      <th>AST</th>\n",
              "      <th>STL</th>\n",
              "      <th>BLK</th>\n",
              "      <th>TO</th>\n",
              "      <th>PTS</th>\n",
              "      <th>DD2</th>\n",
              "      <th>TD3</th>\n",
              "    </tr>\n",
              "  </thead>\n",
              "  <tbody>\n",
              "    <tr>\n",
              "      <th>0</th>\n",
              "      <td>Aerial Powers</td>\n",
              "      <td>DAL</td>\n",
              "      <td>F</td>\n",
              "      <td>183</td>\n",
              "      <td>71.0</td>\n",
              "      <td>21.200991</td>\n",
              "      <td>US</td>\n",
              "      <td>January 17, 1994</td>\n",
              "      <td>23</td>\n",
              "      <td>Michigan State</td>\n",
              "      <td>2</td>\n",
              "      <td>8</td>\n",
              "      <td>173</td>\n",
              "      <td>30</td>\n",
              "      <td>85</td>\n",
              "      <td>35.3</td>\n",
              "      <td>12</td>\n",
              "      <td>32</td>\n",
              "      <td>37.5</td>\n",
              "      <td>21</td>\n",
              "      <td>26</td>\n",
              "      <td>80.8</td>\n",
              "      <td>6</td>\n",
              "      <td>22</td>\n",
              "      <td>28</td>\n",
              "      <td>12</td>\n",
              "      <td>3</td>\n",
              "      <td>6</td>\n",
              "      <td>12</td>\n",
              "      <td>93</td>\n",
              "      <td>0</td>\n",
              "      <td>0</td>\n",
              "    </tr>\n",
              "    <tr>\n",
              "      <th>1</th>\n",
              "      <td>Alana Beard</td>\n",
              "      <td>LA</td>\n",
              "      <td>G/F</td>\n",
              "      <td>185</td>\n",
              "      <td>73.0</td>\n",
              "      <td>21.329438</td>\n",
              "      <td>US</td>\n",
              "      <td>May 14, 1982</td>\n",
              "      <td>35</td>\n",
              "      <td>Duke</td>\n",
              "      <td>12</td>\n",
              "      <td>30</td>\n",
              "      <td>947</td>\n",
              "      <td>90</td>\n",
              "      <td>177</td>\n",
              "      <td>50.8</td>\n",
              "      <td>5</td>\n",
              "      <td>18</td>\n",
              "      <td>27.8</td>\n",
              "      <td>32</td>\n",
              "      <td>41</td>\n",
              "      <td>78.0</td>\n",
              "      <td>19</td>\n",
              "      <td>82</td>\n",
              "      <td>101</td>\n",
              "      <td>72</td>\n",
              "      <td>63</td>\n",
              "      <td>13</td>\n",
              "      <td>40</td>\n",
              "      <td>217</td>\n",
              "      <td>0</td>\n",
              "      <td>0</td>\n",
              "    </tr>\n",
              "    <tr>\n",
              "      <th>2</th>\n",
              "      <td>Alex Bentley</td>\n",
              "      <td>CON</td>\n",
              "      <td>G</td>\n",
              "      <td>170</td>\n",
              "      <td>69.0</td>\n",
              "      <td>23.875433</td>\n",
              "      <td>US</td>\n",
              "      <td>October 27, 1990</td>\n",
              "      <td>26</td>\n",
              "      <td>Penn State</td>\n",
              "      <td>4</td>\n",
              "      <td>26</td>\n",
              "      <td>617</td>\n",
              "      <td>82</td>\n",
              "      <td>218</td>\n",
              "      <td>37.6</td>\n",
              "      <td>19</td>\n",
              "      <td>64</td>\n",
              "      <td>29.7</td>\n",
              "      <td>35</td>\n",
              "      <td>42</td>\n",
              "      <td>83.3</td>\n",
              "      <td>4</td>\n",
              "      <td>36</td>\n",
              "      <td>40</td>\n",
              "      <td>78</td>\n",
              "      <td>22</td>\n",
              "      <td>3</td>\n",
              "      <td>24</td>\n",
              "      <td>218</td>\n",
              "      <td>0</td>\n",
              "      <td>0</td>\n",
              "    </tr>\n",
              "    <tr>\n",
              "      <th>3</th>\n",
              "      <td>Alex Montgomery</td>\n",
              "      <td>SAN</td>\n",
              "      <td>G/F</td>\n",
              "      <td>185</td>\n",
              "      <td>84.0</td>\n",
              "      <td>24.543462</td>\n",
              "      <td>US</td>\n",
              "      <td>December 11, 1988</td>\n",
              "      <td>28</td>\n",
              "      <td>Georgia Tech</td>\n",
              "      <td>6</td>\n",
              "      <td>31</td>\n",
              "      <td>721</td>\n",
              "      <td>75</td>\n",
              "      <td>195</td>\n",
              "      <td>38.5</td>\n",
              "      <td>21</td>\n",
              "      <td>68</td>\n",
              "      <td>30.9</td>\n",
              "      <td>17</td>\n",
              "      <td>21</td>\n",
              "      <td>81.0</td>\n",
              "      <td>35</td>\n",
              "      <td>134</td>\n",
              "      <td>169</td>\n",
              "      <td>65</td>\n",
              "      <td>20</td>\n",
              "      <td>10</td>\n",
              "      <td>38</td>\n",
              "      <td>188</td>\n",
              "      <td>2</td>\n",
              "      <td>0</td>\n",
              "    </tr>\n",
              "    <tr>\n",
              "      <th>4</th>\n",
              "      <td>Alexis Jones</td>\n",
              "      <td>MIN</td>\n",
              "      <td>G</td>\n",
              "      <td>175</td>\n",
              "      <td>78.0</td>\n",
              "      <td>25.469388</td>\n",
              "      <td>US</td>\n",
              "      <td>August 5, 1994</td>\n",
              "      <td>23</td>\n",
              "      <td>Baylor</td>\n",
              "      <td>R</td>\n",
              "      <td>24</td>\n",
              "      <td>137</td>\n",
              "      <td>16</td>\n",
              "      <td>50</td>\n",
              "      <td>32.0</td>\n",
              "      <td>7</td>\n",
              "      <td>20</td>\n",
              "      <td>35.0</td>\n",
              "      <td>11</td>\n",
              "      <td>12</td>\n",
              "      <td>91.7</td>\n",
              "      <td>3</td>\n",
              "      <td>9</td>\n",
              "      <td>12</td>\n",
              "      <td>12</td>\n",
              "      <td>7</td>\n",
              "      <td>0</td>\n",
              "      <td>14</td>\n",
              "      <td>50</td>\n",
              "      <td>0</td>\n",
              "      <td>0</td>\n",
              "    </tr>\n",
              "    <tr>\n",
              "      <th>...</th>\n",
              "      <td>...</td>\n",
              "      <td>...</td>\n",
              "      <td>...</td>\n",
              "      <td>...</td>\n",
              "      <td>...</td>\n",
              "      <td>...</td>\n",
              "      <td>...</td>\n",
              "      <td>...</td>\n",
              "      <td>...</td>\n",
              "      <td>...</td>\n",
              "      <td>...</td>\n",
              "      <td>...</td>\n",
              "      <td>...</td>\n",
              "      <td>...</td>\n",
              "      <td>...</td>\n",
              "      <td>...</td>\n",
              "      <td>...</td>\n",
              "      <td>...</td>\n",
              "      <td>...</td>\n",
              "      <td>...</td>\n",
              "      <td>...</td>\n",
              "      <td>...</td>\n",
              "      <td>...</td>\n",
              "      <td>...</td>\n",
              "      <td>...</td>\n",
              "      <td>...</td>\n",
              "      <td>...</td>\n",
              "      <td>...</td>\n",
              "      <td>...</td>\n",
              "      <td>...</td>\n",
              "      <td>...</td>\n",
              "      <td>...</td>\n",
              "    </tr>\n",
              "    <tr>\n",
              "      <th>138</th>\n",
              "      <td>Tiffany Hayes</td>\n",
              "      <td>ATL</td>\n",
              "      <td>G</td>\n",
              "      <td>178</td>\n",
              "      <td>70.0</td>\n",
              "      <td>22.093170</td>\n",
              "      <td>US</td>\n",
              "      <td>September 20, 1989</td>\n",
              "      <td>27</td>\n",
              "      <td>Connecticut</td>\n",
              "      <td>6</td>\n",
              "      <td>29</td>\n",
              "      <td>861</td>\n",
              "      <td>144</td>\n",
              "      <td>331</td>\n",
              "      <td>43.5</td>\n",
              "      <td>43</td>\n",
              "      <td>112</td>\n",
              "      <td>38.4</td>\n",
              "      <td>136</td>\n",
              "      <td>161</td>\n",
              "      <td>84.5</td>\n",
              "      <td>28</td>\n",
              "      <td>89</td>\n",
              "      <td>117</td>\n",
              "      <td>69</td>\n",
              "      <td>37</td>\n",
              "      <td>8</td>\n",
              "      <td>50</td>\n",
              "      <td>467</td>\n",
              "      <td>0</td>\n",
              "      <td>0</td>\n",
              "    </tr>\n",
              "    <tr>\n",
              "      <th>139</th>\n",
              "      <td>Tiffany Jackson</td>\n",
              "      <td>LA</td>\n",
              "      <td>F</td>\n",
              "      <td>191</td>\n",
              "      <td>84.0</td>\n",
              "      <td>23.025685</td>\n",
              "      <td>US</td>\n",
              "      <td>April 26, 1985</td>\n",
              "      <td>32</td>\n",
              "      <td>Texas</td>\n",
              "      <td>9</td>\n",
              "      <td>22</td>\n",
              "      <td>127</td>\n",
              "      <td>12</td>\n",
              "      <td>25</td>\n",
              "      <td>48.0</td>\n",
              "      <td>0</td>\n",
              "      <td>1</td>\n",
              "      <td>0.0</td>\n",
              "      <td>4</td>\n",
              "      <td>6</td>\n",
              "      <td>66.7</td>\n",
              "      <td>5</td>\n",
              "      <td>18</td>\n",
              "      <td>23</td>\n",
              "      <td>3</td>\n",
              "      <td>1</td>\n",
              "      <td>3</td>\n",
              "      <td>8</td>\n",
              "      <td>28</td>\n",
              "      <td>0</td>\n",
              "      <td>0</td>\n",
              "    </tr>\n",
              "    <tr>\n",
              "      <th>140</th>\n",
              "      <td>Tiffany Mitchell</td>\n",
              "      <td>IND</td>\n",
              "      <td>G</td>\n",
              "      <td>175</td>\n",
              "      <td>69.0</td>\n",
              "      <td>22.530612</td>\n",
              "      <td>US</td>\n",
              "      <td>September 23, 1984</td>\n",
              "      <td>32</td>\n",
              "      <td>South Carolina</td>\n",
              "      <td>2</td>\n",
              "      <td>27</td>\n",
              "      <td>671</td>\n",
              "      <td>83</td>\n",
              "      <td>238</td>\n",
              "      <td>34.9</td>\n",
              "      <td>17</td>\n",
              "      <td>69</td>\n",
              "      <td>24.6</td>\n",
              "      <td>94</td>\n",
              "      <td>102</td>\n",
              "      <td>92.2</td>\n",
              "      <td>16</td>\n",
              "      <td>70</td>\n",
              "      <td>86</td>\n",
              "      <td>39</td>\n",
              "      <td>31</td>\n",
              "      <td>5</td>\n",
              "      <td>40</td>\n",
              "      <td>277</td>\n",
              "      <td>0</td>\n",
              "      <td>0</td>\n",
              "    </tr>\n",
              "    <tr>\n",
              "      <th>141</th>\n",
              "      <td>Tina Charles</td>\n",
              "      <td>NY</td>\n",
              "      <td>F/C</td>\n",
              "      <td>193</td>\n",
              "      <td>84.0</td>\n",
              "      <td>22.550941</td>\n",
              "      <td>US</td>\n",
              "      <td>May 12, 1988</td>\n",
              "      <td>29</td>\n",
              "      <td>Connecticut</td>\n",
              "      <td>8</td>\n",
              "      <td>29</td>\n",
              "      <td>952</td>\n",
              "      <td>227</td>\n",
              "      <td>509</td>\n",
              "      <td>44.6</td>\n",
              "      <td>18</td>\n",
              "      <td>56</td>\n",
              "      <td>32.1</td>\n",
              "      <td>110</td>\n",
              "      <td>135</td>\n",
              "      <td>81.5</td>\n",
              "      <td>56</td>\n",
              "      <td>212</td>\n",
              "      <td>268</td>\n",
              "      <td>75</td>\n",
              "      <td>21</td>\n",
              "      <td>22</td>\n",
              "      <td>71</td>\n",
              "      <td>582</td>\n",
              "      <td>11</td>\n",
              "      <td>0</td>\n",
              "    </tr>\n",
              "    <tr>\n",
              "      <th>142</th>\n",
              "      <td>Yvonne Turner</td>\n",
              "      <td>PHO</td>\n",
              "      <td>G</td>\n",
              "      <td>175</td>\n",
              "      <td>59.0</td>\n",
              "      <td>19.265306</td>\n",
              "      <td>US</td>\n",
              "      <td>October 13, 1987</td>\n",
              "      <td>29</td>\n",
              "      <td>Nebraska</td>\n",
              "      <td>2</td>\n",
              "      <td>30</td>\n",
              "      <td>356</td>\n",
              "      <td>59</td>\n",
              "      <td>140</td>\n",
              "      <td>42.1</td>\n",
              "      <td>11</td>\n",
              "      <td>47</td>\n",
              "      <td>23.4</td>\n",
              "      <td>22</td>\n",
              "      <td>28</td>\n",
              "      <td>78.6</td>\n",
              "      <td>11</td>\n",
              "      <td>13</td>\n",
              "      <td>24</td>\n",
              "      <td>30</td>\n",
              "      <td>18</td>\n",
              "      <td>1</td>\n",
              "      <td>32</td>\n",
              "      <td>151</td>\n",
              "      <td>0</td>\n",
              "      <td>0</td>\n",
              "    </tr>\n",
              "  </tbody>\n",
              "</table>\n",
              "<p>142 rows × 32 columns</p>\n",
              "</div>\n",
              "    <div class=\"colab-df-buttons\">\n",
              "\n",
              "  <div class=\"colab-df-container\">\n",
              "    <button class=\"colab-df-convert\" onclick=\"convertToInteractive('df-6335dd9d-da18-4c9d-93ae-1a408bf834ac')\"\n",
              "            title=\"Convert this dataframe to an interactive table.\"\n",
              "            style=\"display:none;\">\n",
              "\n",
              "  <svg xmlns=\"http://www.w3.org/2000/svg\" height=\"24px\" viewBox=\"0 -960 960 960\">\n",
              "    <path d=\"M120-120v-720h720v720H120Zm60-500h600v-160H180v160Zm220 220h160v-160H400v160Zm0 220h160v-160H400v160ZM180-400h160v-160H180v160Zm440 0h160v-160H620v160ZM180-180h160v-160H180v160Zm440 0h160v-160H620v160Z\"/>\n",
              "  </svg>\n",
              "    </button>\n",
              "\n",
              "  <style>\n",
              "    .colab-df-container {\n",
              "      display:flex;\n",
              "      gap: 12px;\n",
              "    }\n",
              "\n",
              "    .colab-df-convert {\n",
              "      background-color: #E8F0FE;\n",
              "      border: none;\n",
              "      border-radius: 50%;\n",
              "      cursor: pointer;\n",
              "      display: none;\n",
              "      fill: #1967D2;\n",
              "      height: 32px;\n",
              "      padding: 0 0 0 0;\n",
              "      width: 32px;\n",
              "    }\n",
              "\n",
              "    .colab-df-convert:hover {\n",
              "      background-color: #E2EBFA;\n",
              "      box-shadow: 0px 1px 2px rgba(60, 64, 67, 0.3), 0px 1px 3px 1px rgba(60, 64, 67, 0.15);\n",
              "      fill: #174EA6;\n",
              "    }\n",
              "\n",
              "    .colab-df-buttons div {\n",
              "      margin-bottom: 4px;\n",
              "    }\n",
              "\n",
              "    [theme=dark] .colab-df-convert {\n",
              "      background-color: #3B4455;\n",
              "      fill: #D2E3FC;\n",
              "    }\n",
              "\n",
              "    [theme=dark] .colab-df-convert:hover {\n",
              "      background-color: #434B5C;\n",
              "      box-shadow: 0px 1px 3px 1px rgba(0, 0, 0, 0.15);\n",
              "      filter: drop-shadow(0px 1px 2px rgba(0, 0, 0, 0.3));\n",
              "      fill: #FFFFFF;\n",
              "    }\n",
              "  </style>\n",
              "\n",
              "    <script>\n",
              "      const buttonEl =\n",
              "        document.querySelector('#df-6335dd9d-da18-4c9d-93ae-1a408bf834ac button.colab-df-convert');\n",
              "      buttonEl.style.display =\n",
              "        google.colab.kernel.accessAllowed ? 'block' : 'none';\n",
              "\n",
              "      async function convertToInteractive(key) {\n",
              "        const element = document.querySelector('#df-6335dd9d-da18-4c9d-93ae-1a408bf834ac');\n",
              "        const dataTable =\n",
              "          await google.colab.kernel.invokeFunction('convertToInteractive',\n",
              "                                                    [key], {});\n",
              "        if (!dataTable) return;\n",
              "\n",
              "        const docLinkHtml = 'Like what you see? Visit the ' +\n",
              "          '<a target=\"_blank\" href=https://colab.research.google.com/notebooks/data_table.ipynb>data table notebook</a>'\n",
              "          + ' to learn more about interactive tables.';\n",
              "        element.innerHTML = '';\n",
              "        dataTable['output_type'] = 'display_data';\n",
              "        await google.colab.output.renderOutput(dataTable, element);\n",
              "        const docLink = document.createElement('div');\n",
              "        docLink.innerHTML = docLinkHtml;\n",
              "        element.appendChild(docLink);\n",
              "      }\n",
              "    </script>\n",
              "  </div>\n",
              "\n",
              "\n",
              "<div id=\"df-b3e6ccd9-b833-4ab7-9b4d-059f6494dd96\">\n",
              "  <button class=\"colab-df-quickchart\" onclick=\"quickchart('df-b3e6ccd9-b833-4ab7-9b4d-059f6494dd96')\"\n",
              "            title=\"Suggest charts\"\n",
              "            style=\"display:none;\">\n",
              "\n",
              "<svg xmlns=\"http://www.w3.org/2000/svg\" height=\"24px\"viewBox=\"0 0 24 24\"\n",
              "     width=\"24px\">\n",
              "    <g>\n",
              "        <path d=\"M19 3H5c-1.1 0-2 .9-2 2v14c0 1.1.9 2 2 2h14c1.1 0 2-.9 2-2V5c0-1.1-.9-2-2-2zM9 17H7v-7h2v7zm4 0h-2V7h2v10zm4 0h-2v-4h2v4z\"/>\n",
              "    </g>\n",
              "</svg>\n",
              "  </button>\n",
              "\n",
              "<style>\n",
              "  .colab-df-quickchart {\n",
              "      --bg-color: #E8F0FE;\n",
              "      --fill-color: #1967D2;\n",
              "      --hover-bg-color: #E2EBFA;\n",
              "      --hover-fill-color: #174EA6;\n",
              "      --disabled-fill-color: #AAA;\n",
              "      --disabled-bg-color: #DDD;\n",
              "  }\n",
              "\n",
              "  [theme=dark] .colab-df-quickchart {\n",
              "      --bg-color: #3B4455;\n",
              "      --fill-color: #D2E3FC;\n",
              "      --hover-bg-color: #434B5C;\n",
              "      --hover-fill-color: #FFFFFF;\n",
              "      --disabled-bg-color: #3B4455;\n",
              "      --disabled-fill-color: #666;\n",
              "  }\n",
              "\n",
              "  .colab-df-quickchart {\n",
              "    background-color: var(--bg-color);\n",
              "    border: none;\n",
              "    border-radius: 50%;\n",
              "    cursor: pointer;\n",
              "    display: none;\n",
              "    fill: var(--fill-color);\n",
              "    height: 32px;\n",
              "    padding: 0;\n",
              "    width: 32px;\n",
              "  }\n",
              "\n",
              "  .colab-df-quickchart:hover {\n",
              "    background-color: var(--hover-bg-color);\n",
              "    box-shadow: 0 1px 2px rgba(60, 64, 67, 0.3), 0 1px 3px 1px rgba(60, 64, 67, 0.15);\n",
              "    fill: var(--button-hover-fill-color);\n",
              "  }\n",
              "\n",
              "  .colab-df-quickchart-complete:disabled,\n",
              "  .colab-df-quickchart-complete:disabled:hover {\n",
              "    background-color: var(--disabled-bg-color);\n",
              "    fill: var(--disabled-fill-color);\n",
              "    box-shadow: none;\n",
              "  }\n",
              "\n",
              "  .colab-df-spinner {\n",
              "    border: 2px solid var(--fill-color);\n",
              "    border-color: transparent;\n",
              "    border-bottom-color: var(--fill-color);\n",
              "    animation:\n",
              "      spin 1s steps(1) infinite;\n",
              "  }\n",
              "\n",
              "  @keyframes spin {\n",
              "    0% {\n",
              "      border-color: transparent;\n",
              "      border-bottom-color: var(--fill-color);\n",
              "      border-left-color: var(--fill-color);\n",
              "    }\n",
              "    20% {\n",
              "      border-color: transparent;\n",
              "      border-left-color: var(--fill-color);\n",
              "      border-top-color: var(--fill-color);\n",
              "    }\n",
              "    30% {\n",
              "      border-color: transparent;\n",
              "      border-left-color: var(--fill-color);\n",
              "      border-top-color: var(--fill-color);\n",
              "      border-right-color: var(--fill-color);\n",
              "    }\n",
              "    40% {\n",
              "      border-color: transparent;\n",
              "      border-right-color: var(--fill-color);\n",
              "      border-top-color: var(--fill-color);\n",
              "    }\n",
              "    60% {\n",
              "      border-color: transparent;\n",
              "      border-right-color: var(--fill-color);\n",
              "    }\n",
              "    80% {\n",
              "      border-color: transparent;\n",
              "      border-right-color: var(--fill-color);\n",
              "      border-bottom-color: var(--fill-color);\n",
              "    }\n",
              "    90% {\n",
              "      border-color: transparent;\n",
              "      border-bottom-color: var(--fill-color);\n",
              "    }\n",
              "  }\n",
              "</style>\n",
              "\n",
              "  <script>\n",
              "    async function quickchart(key) {\n",
              "      const quickchartButtonEl =\n",
              "        document.querySelector('#' + key + ' button');\n",
              "      quickchartButtonEl.disabled = true;  // To prevent multiple clicks.\n",
              "      quickchartButtonEl.classList.add('colab-df-spinner');\n",
              "      try {\n",
              "        const charts = await google.colab.kernel.invokeFunction(\n",
              "            'suggestCharts', [key], {});\n",
              "      } catch (error) {\n",
              "        console.error('Error during call to suggestCharts:', error);\n",
              "      }\n",
              "      quickchartButtonEl.classList.remove('colab-df-spinner');\n",
              "      quickchartButtonEl.classList.add('colab-df-quickchart-complete');\n",
              "    }\n",
              "    (() => {\n",
              "      let quickchartButtonEl =\n",
              "        document.querySelector('#df-b3e6ccd9-b833-4ab7-9b4d-059f6494dd96 button');\n",
              "      quickchartButtonEl.style.display =\n",
              "        google.colab.kernel.accessAllowed ? 'block' : 'none';\n",
              "    })();\n",
              "  </script>\n",
              "</div>\n",
              "    </div>\n",
              "  </div>\n"
            ]
          },
          "metadata": {},
          "execution_count": 37
        }
      ],
      "source": [
        "#I wouldn't drop the row! but still, I do what I am told:\n",
        "\n",
        "wnba_cleaned = wnba.dropna(subset=[\"Weight\", \"BMI\"])\n",
        "wnba_cleaned"
      ]
    },
    {
      "cell_type": "markdown",
      "metadata": {
        "id": "7vDOJFcr6nAW"
      },
      "source": [
        "**Do you think it is a good decision? Think about a case in which you wouldn't want to drop the value.**"
      ]
    },
    {
      "cell_type": "code",
      "execution_count": 38,
      "metadata": {
        "colab": {
          "base_uri": "https://localhost:8080/"
        },
        "id": "OG3lzSul6nAW",
        "outputId": "2af29df9-45a2-4767-90f1-26aaceeeb9c2"
      },
      "outputs": [
        {
          "output_type": "stream",
          "name": "stdout",
          "text": [
            "We just took out an entire row, which means 32 entries\n"
          ]
        }
      ],
      "source": [
        "cleaned_values = original_values - wnba_cleaned.size\n",
        "print(\"We just took out an entire row, which means\", cleaned_values,\"entries\")\n",
        "# I wouldn't have drop the entire row. could have filled it with the mean weight /BMI\n",
        "# since they are all athletes, that would not be a huge diferrence."
      ]
    },
    {
      "cell_type": "markdown",
      "metadata": {
        "id": "rMJBC3aj6nAX"
      },
      "source": [
        "### Let's make an overview of the dataset\n",
        "First, check the data types of our data:"
      ]
    },
    {
      "cell_type": "code",
      "execution_count": 41,
      "metadata": {
        "id": "R9WInXQd6nAX",
        "colab": {
          "base_uri": "https://localhost:8080/"
        },
        "outputId": "57c31bb6-b5b5-4262-d4de-e9a725cc04cf"
      },
      "outputs": [
        {
          "output_type": "execute_result",
          "data": {
            "text/plain": [
              "Name             object\n",
              "Team             object\n",
              "Pos              object\n",
              "Height            int64\n",
              "Weight          float64\n",
              "BMI             float64\n",
              "Birth_Place      object\n",
              "Birthdate        object\n",
              "Age               int64\n",
              "College          object\n",
              "Experience       object\n",
              "Games Played      int64\n",
              "MIN               int64\n",
              "FGM               int64\n",
              "FGA               int64\n",
              "FG%             float64\n",
              "3PM               int64\n",
              "3PA               int64\n",
              "3P%             float64\n",
              "FTM               int64\n",
              "FTA               int64\n",
              "FT%             float64\n",
              "OREB              int64\n",
              "DREB              int64\n",
              "REB               int64\n",
              "AST               int64\n",
              "STL               int64\n",
              "BLK               int64\n",
              "TO                int64\n",
              "PTS               int64\n",
              "DD2               int64\n",
              "TD3               int64\n",
              "dtype: object"
            ]
          },
          "metadata": {},
          "execution_count": 41
        }
      ],
      "source": [
        "wnba_cleaned.dtypes\n",
        "# Well i agree that weight can be a float (or should)"
      ]
    },
    {
      "cell_type": "markdown",
      "metadata": {
        "id": "K5l-DRE16nAX"
      },
      "source": [
        "It looks like most of the data types are correct. Birthdate column could be casted to a `datetime` type, however, we won't use it in our analysis so for simplicity, let's leave it as an `object`. Weight column could also be casted to an `int64` type as all numbers are integers."
      ]
    },
    {
      "cell_type": "markdown",
      "metadata": {
        "id": "SZdbCE156nAX"
      },
      "source": [
        "**Let's change the type of Weight column for practice.**"
      ]
    },
    {
      "cell_type": "code",
      "execution_count": 42,
      "metadata": {
        "id": "Mszr0bNk6nAY",
        "colab": {
          "base_uri": "https://localhost:8080/"
        },
        "outputId": "663fa3b2-1280-418a-f5c3-6a845a3f285f"
      },
      "outputs": [
        {
          "output_type": "stream",
          "name": "stderr",
          "text": [
            "<ipython-input-42-5faef37f58fa>:1: SettingWithCopyWarning: \n",
            "A value is trying to be set on a copy of a slice from a DataFrame.\n",
            "Try using .loc[row_indexer,col_indexer] = value instead\n",
            "\n",
            "See the caveats in the documentation: https://pandas.pydata.org/pandas-docs/stable/user_guide/indexing.html#returning-a-view-versus-a-copy\n",
            "  wnba_cleaned[\"Weight\"] = pd.to_numeric(wnba_cleaned[\"Weight\"], errors= \"coerce\") # took this from labs of week 2. Melting.\n"
          ]
        },
        {
          "output_type": "execute_result",
          "data": {
            "text/plain": [
              "Name             object\n",
              "Team             object\n",
              "Pos              object\n",
              "Height            int64\n",
              "Weight          float64\n",
              "BMI             float64\n",
              "Birth_Place      object\n",
              "Birthdate        object\n",
              "Age               int64\n",
              "College          object\n",
              "Experience       object\n",
              "Games Played      int64\n",
              "MIN               int64\n",
              "FGM               int64\n",
              "FGA               int64\n",
              "FG%             float64\n",
              "3PM               int64\n",
              "3PA               int64\n",
              "3P%             float64\n",
              "FTM               int64\n",
              "FTA               int64\n",
              "FT%             float64\n",
              "OREB              int64\n",
              "DREB              int64\n",
              "REB               int64\n",
              "AST               int64\n",
              "STL               int64\n",
              "BLK               int64\n",
              "TO                int64\n",
              "PTS               int64\n",
              "DD2               int64\n",
              "TD3               int64\n",
              "dtype: object"
            ]
          },
          "metadata": {},
          "execution_count": 42
        }
      ],
      "source": [
        "wnba_cleaned[\"Weight\"] = pd.to_numeric(wnba_cleaned[\"Weight\"], errors= \"coerce\") # took this from labs of week 2. Melting.\n",
        "wnba_cleaned.dtypes"
      ]
    },
    {
      "cell_type": "markdown",
      "metadata": {
        "id": "_scCBq6w6nAY"
      },
      "source": [
        "**After checking the data types, let's check for outliers using the describe() method.**"
      ]
    },
    {
      "cell_type": "code",
      "execution_count": null,
      "metadata": {
        "id": "kluJBvyW6nAY"
      },
      "outputs": [],
      "source": [
        "wnba_cleaned.describe() # method deprecated."
      ]
    },
    {
      "cell_type": "markdown",
      "metadata": {
        "id": "sIFvmUXq6nAY"
      },
      "source": [
        "**Comment on your result. What do you see?**"
      ]
    },
    {
      "cell_type": "code",
      "source": [
        "wnba_cleaned.describe() # method deprecated, TA permission."
      ],
      "metadata": {
        "id": "7ypyCLOOtRJ8"
      },
      "execution_count": null,
      "outputs": []
    },
    {
      "cell_type": "markdown",
      "metadata": {
        "id": "ctDdR3Lt6nAZ"
      },
      "source": [
        "**Now we can save the cleaned data to a new .csv file called `wnba_clean.csv` in the data folder.**"
      ]
    },
    {
      "cell_type": "code",
      "execution_count": 46,
      "metadata": {
        "id": "dunfkarl6nAZ"
      },
      "outputs": [],
      "source": [
        "wnba_cleaned.to_csv(\"wnba_cleaned.csv\", index = False)"
      ]
    },
    {
      "cell_type": "code",
      "source": [],
      "metadata": {
        "id": "CxISmzULvbZd"
      },
      "execution_count": null,
      "outputs": []
    }
  ],
  "metadata": {
    "kernelspec": {
      "display_name": "Python 3",
      "language": "python",
      "name": "python3"
    },
    "language_info": {
      "codemirror_mode": {
        "name": "ipython",
        "version": 3
      },
      "file_extension": ".py",
      "mimetype": "text/x-python",
      "name": "python",
      "nbconvert_exporter": "python",
      "pygments_lexer": "ipython3",
      "version": "3.6.8"
    },
    "colab": {
      "provenance": []
    }
  },
  "nbformat": 4,
  "nbformat_minor": 0
}