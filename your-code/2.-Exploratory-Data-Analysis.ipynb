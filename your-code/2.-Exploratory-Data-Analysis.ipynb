{
 "cells": [
  {
   "cell_type": "markdown",
   "metadata": {},
   "source": [
    "# Inferential statistics\n",
    "## Part II - Exploratory Data Analysis\n",
    "\n",
    "Before starting the actual analysis it's a good idea to explore the data that we will be using, to give yourself a first idea of the questions you will be able to answer with your data, the bias you could have, other data you could need, etc.\n",
    "\n",
    "### Libraries\n",
    "In addition to pandas we will also import matplolib and seaborn so that we will able to plot our data to better understand it."
   ]
  },
  {
   "cell_type": "code",
   "execution_count": 1,
   "metadata": {},
   "outputs": [],
   "source": [
    "import pandas as pd\n",
    "import matplotlib.pyplot as plt\n",
    "import seaborn as sns\n",
    "pd.set_option('display.max_columns', 100)"
   ]
  },
  {
   "cell_type": "markdown",
   "metadata": {},
   "source": [
    "### Explore the dataset\n",
    "\n",
    "Let's load the cleaned dataset first. Import it with the name `wnba` and show the head."
   ]
  },
  {
   "cell_type": "code",
   "execution_count": 2,
   "metadata": {},
   "outputs": [
    {
     "data": {
      "text/html": [
       "<div>\n",
       "<style scoped>\n",
       "    .dataframe tbody tr th:only-of-type {\n",
       "        vertical-align: middle;\n",
       "    }\n",
       "\n",
       "    .dataframe tbody tr th {\n",
       "        vertical-align: top;\n",
       "    }\n",
       "\n",
       "    .dataframe thead th {\n",
       "        text-align: right;\n",
       "    }\n",
       "</style>\n",
       "<table border=\"1\" class=\"dataframe\">\n",
       "  <thead>\n",
       "    <tr style=\"text-align: right;\">\n",
       "      <th></th>\n",
       "      <th>Name</th>\n",
       "      <th>Team</th>\n",
       "      <th>Pos</th>\n",
       "      <th>Height</th>\n",
       "      <th>Weight</th>\n",
       "      <th>BMI</th>\n",
       "      <th>Birth_Place</th>\n",
       "      <th>Birthdate</th>\n",
       "      <th>Age</th>\n",
       "      <th>College</th>\n",
       "      <th>Experience</th>\n",
       "      <th>Games Played</th>\n",
       "      <th>MIN</th>\n",
       "      <th>FGM</th>\n",
       "      <th>FGA</th>\n",
       "      <th>FG%</th>\n",
       "      <th>3PM</th>\n",
       "      <th>3PA</th>\n",
       "      <th>3P%</th>\n",
       "      <th>FTM</th>\n",
       "      <th>FTA</th>\n",
       "      <th>FT%</th>\n",
       "      <th>OREB</th>\n",
       "      <th>DREB</th>\n",
       "      <th>REB</th>\n",
       "      <th>AST</th>\n",
       "      <th>STL</th>\n",
       "      <th>BLK</th>\n",
       "      <th>TO</th>\n",
       "      <th>PTS</th>\n",
       "      <th>DD2</th>\n",
       "      <th>TD3</th>\n",
       "    </tr>\n",
       "  </thead>\n",
       "  <tbody>\n",
       "    <tr>\n",
       "      <th>0</th>\n",
       "      <td>Aerial Powers</td>\n",
       "      <td>DAL</td>\n",
       "      <td>F</td>\n",
       "      <td>183</td>\n",
       "      <td>71</td>\n",
       "      <td>21.200991</td>\n",
       "      <td>US</td>\n",
       "      <td>January 17, 1994</td>\n",
       "      <td>23</td>\n",
       "      <td>Michigan State</td>\n",
       "      <td>2</td>\n",
       "      <td>8</td>\n",
       "      <td>173</td>\n",
       "      <td>30</td>\n",
       "      <td>85</td>\n",
       "      <td>35.3</td>\n",
       "      <td>12</td>\n",
       "      <td>32</td>\n",
       "      <td>37.5</td>\n",
       "      <td>21</td>\n",
       "      <td>26</td>\n",
       "      <td>80.8</td>\n",
       "      <td>6</td>\n",
       "      <td>22</td>\n",
       "      <td>28</td>\n",
       "      <td>12</td>\n",
       "      <td>3</td>\n",
       "      <td>6</td>\n",
       "      <td>12</td>\n",
       "      <td>93</td>\n",
       "      <td>0</td>\n",
       "      <td>0</td>\n",
       "    </tr>\n",
       "    <tr>\n",
       "      <th>1</th>\n",
       "      <td>Alana Beard</td>\n",
       "      <td>LA</td>\n",
       "      <td>G/F</td>\n",
       "      <td>185</td>\n",
       "      <td>73</td>\n",
       "      <td>21.329438</td>\n",
       "      <td>US</td>\n",
       "      <td>May 14, 1982</td>\n",
       "      <td>35</td>\n",
       "      <td>Duke</td>\n",
       "      <td>12</td>\n",
       "      <td>30</td>\n",
       "      <td>947</td>\n",
       "      <td>90</td>\n",
       "      <td>177</td>\n",
       "      <td>50.8</td>\n",
       "      <td>5</td>\n",
       "      <td>18</td>\n",
       "      <td>27.8</td>\n",
       "      <td>32</td>\n",
       "      <td>41</td>\n",
       "      <td>78.0</td>\n",
       "      <td>19</td>\n",
       "      <td>82</td>\n",
       "      <td>101</td>\n",
       "      <td>72</td>\n",
       "      <td>63</td>\n",
       "      <td>13</td>\n",
       "      <td>40</td>\n",
       "      <td>217</td>\n",
       "      <td>0</td>\n",
       "      <td>0</td>\n",
       "    </tr>\n",
       "    <tr>\n",
       "      <th>2</th>\n",
       "      <td>Alex Bentley</td>\n",
       "      <td>CON</td>\n",
       "      <td>G</td>\n",
       "      <td>170</td>\n",
       "      <td>69</td>\n",
       "      <td>23.875433</td>\n",
       "      <td>US</td>\n",
       "      <td>October 27, 1990</td>\n",
       "      <td>26</td>\n",
       "      <td>Penn State</td>\n",
       "      <td>4</td>\n",
       "      <td>26</td>\n",
       "      <td>617</td>\n",
       "      <td>82</td>\n",
       "      <td>218</td>\n",
       "      <td>37.6</td>\n",
       "      <td>19</td>\n",
       "      <td>64</td>\n",
       "      <td>29.7</td>\n",
       "      <td>35</td>\n",
       "      <td>42</td>\n",
       "      <td>83.3</td>\n",
       "      <td>4</td>\n",
       "      <td>36</td>\n",
       "      <td>40</td>\n",
       "      <td>78</td>\n",
       "      <td>22</td>\n",
       "      <td>3</td>\n",
       "      <td>24</td>\n",
       "      <td>218</td>\n",
       "      <td>0</td>\n",
       "      <td>0</td>\n",
       "    </tr>\n",
       "    <tr>\n",
       "      <th>3</th>\n",
       "      <td>Alex Montgomery</td>\n",
       "      <td>SAN</td>\n",
       "      <td>G/F</td>\n",
       "      <td>185</td>\n",
       "      <td>84</td>\n",
       "      <td>24.543462</td>\n",
       "      <td>US</td>\n",
       "      <td>December 11, 1988</td>\n",
       "      <td>28</td>\n",
       "      <td>Georgia Tech</td>\n",
       "      <td>6</td>\n",
       "      <td>31</td>\n",
       "      <td>721</td>\n",
       "      <td>75</td>\n",
       "      <td>195</td>\n",
       "      <td>38.5</td>\n",
       "      <td>21</td>\n",
       "      <td>68</td>\n",
       "      <td>30.9</td>\n",
       "      <td>17</td>\n",
       "      <td>21</td>\n",
       "      <td>81.0</td>\n",
       "      <td>35</td>\n",
       "      <td>134</td>\n",
       "      <td>169</td>\n",
       "      <td>65</td>\n",
       "      <td>20</td>\n",
       "      <td>10</td>\n",
       "      <td>38</td>\n",
       "      <td>188</td>\n",
       "      <td>2</td>\n",
       "      <td>0</td>\n",
       "    </tr>\n",
       "    <tr>\n",
       "      <th>4</th>\n",
       "      <td>Alexis Jones</td>\n",
       "      <td>MIN</td>\n",
       "      <td>G</td>\n",
       "      <td>175</td>\n",
       "      <td>78</td>\n",
       "      <td>25.469388</td>\n",
       "      <td>US</td>\n",
       "      <td>August 5, 1994</td>\n",
       "      <td>23</td>\n",
       "      <td>Baylor</td>\n",
       "      <td>R</td>\n",
       "      <td>24</td>\n",
       "      <td>137</td>\n",
       "      <td>16</td>\n",
       "      <td>50</td>\n",
       "      <td>32.0</td>\n",
       "      <td>7</td>\n",
       "      <td>20</td>\n",
       "      <td>35.0</td>\n",
       "      <td>11</td>\n",
       "      <td>12</td>\n",
       "      <td>91.7</td>\n",
       "      <td>3</td>\n",
       "      <td>9</td>\n",
       "      <td>12</td>\n",
       "      <td>12</td>\n",
       "      <td>7</td>\n",
       "      <td>0</td>\n",
       "      <td>14</td>\n",
       "      <td>50</td>\n",
       "      <td>0</td>\n",
       "      <td>0</td>\n",
       "    </tr>\n",
       "  </tbody>\n",
       "</table>\n",
       "</div>"
      ],
      "text/plain": [
       "              Name Team  Pos  Height  Weight        BMI Birth_Place  \\\n",
       "0    Aerial Powers  DAL    F     183      71  21.200991          US   \n",
       "1      Alana Beard   LA  G/F     185      73  21.329438          US   \n",
       "2     Alex Bentley  CON    G     170      69  23.875433          US   \n",
       "3  Alex Montgomery  SAN  G/F     185      84  24.543462          US   \n",
       "4     Alexis Jones  MIN    G     175      78  25.469388          US   \n",
       "\n",
       "           Birthdate  Age         College Experience  Games Played  MIN  FGM  \\\n",
       "0   January 17, 1994   23  Michigan State          2             8  173   30   \n",
       "1       May 14, 1982   35            Duke         12            30  947   90   \n",
       "2   October 27, 1990   26      Penn State          4            26  617   82   \n",
       "3  December 11, 1988   28    Georgia Tech          6            31  721   75   \n",
       "4     August 5, 1994   23          Baylor          R            24  137   16   \n",
       "\n",
       "   FGA   FG%  3PM  3PA   3P%  FTM  FTA   FT%  OREB  DREB  REB  AST  STL  BLK  \\\n",
       "0   85  35.3   12   32  37.5   21   26  80.8     6    22   28   12    3    6   \n",
       "1  177  50.8    5   18  27.8   32   41  78.0    19    82  101   72   63   13   \n",
       "2  218  37.6   19   64  29.7   35   42  83.3     4    36   40   78   22    3   \n",
       "3  195  38.5   21   68  30.9   17   21  81.0    35   134  169   65   20   10   \n",
       "4   50  32.0    7   20  35.0   11   12  91.7     3     9   12   12    7    0   \n",
       "\n",
       "   TO  PTS  DD2  TD3  \n",
       "0  12   93    0    0  \n",
       "1  40  217    0    0  \n",
       "2  24  218    0    0  \n",
       "3  38  188    2    0  \n",
       "4  14   50    0    0  "
      ]
     },
     "execution_count": 2,
     "metadata": {},
     "output_type": "execute_result"
    }
   ],
   "source": [
    "wnba = pd.read_csv('/Users/mariagarcia/Desktop/labs/week5/M2-mini-project2/data/wnba_clean.csv')\n",
    "wnba.head(5)"
   ]
  },
  {
   "cell_type": "markdown",
   "metadata": {},
   "source": [
    "**Use describe() to take an initial look at the data.**"
   ]
  },
  {
   "cell_type": "code",
   "execution_count": 3,
   "metadata": {},
   "outputs": [
    {
     "data": {
      "text/html": [
       "<div>\n",
       "<style scoped>\n",
       "    .dataframe tbody tr th:only-of-type {\n",
       "        vertical-align: middle;\n",
       "    }\n",
       "\n",
       "    .dataframe tbody tr th {\n",
       "        vertical-align: top;\n",
       "    }\n",
       "\n",
       "    .dataframe thead th {\n",
       "        text-align: right;\n",
       "    }\n",
       "</style>\n",
       "<table border=\"1\" class=\"dataframe\">\n",
       "  <thead>\n",
       "    <tr style=\"text-align: right;\">\n",
       "      <th></th>\n",
       "      <th>Height</th>\n",
       "      <th>Weight</th>\n",
       "      <th>BMI</th>\n",
       "      <th>Age</th>\n",
       "      <th>Games Played</th>\n",
       "      <th>MIN</th>\n",
       "      <th>FGM</th>\n",
       "      <th>FGA</th>\n",
       "      <th>FG%</th>\n",
       "      <th>3PM</th>\n",
       "      <th>3PA</th>\n",
       "      <th>3P%</th>\n",
       "      <th>FTM</th>\n",
       "      <th>FTA</th>\n",
       "      <th>FT%</th>\n",
       "      <th>OREB</th>\n",
       "      <th>DREB</th>\n",
       "      <th>REB</th>\n",
       "      <th>AST</th>\n",
       "      <th>STL</th>\n",
       "      <th>BLK</th>\n",
       "      <th>TO</th>\n",
       "      <th>PTS</th>\n",
       "      <th>DD2</th>\n",
       "      <th>TD3</th>\n",
       "    </tr>\n",
       "  </thead>\n",
       "  <tbody>\n",
       "    <tr>\n",
       "      <th>count</th>\n",
       "      <td>142.000000</td>\n",
       "      <td>142.000000</td>\n",
       "      <td>142.000000</td>\n",
       "      <td>142.000000</td>\n",
       "      <td>142.000000</td>\n",
       "      <td>142.000000</td>\n",
       "      <td>142.000000</td>\n",
       "      <td>142.000000</td>\n",
       "      <td>142.000000</td>\n",
       "      <td>142.000000</td>\n",
       "      <td>142.000000</td>\n",
       "      <td>142.000000</td>\n",
       "      <td>142.000000</td>\n",
       "      <td>142.000000</td>\n",
       "      <td>142.000000</td>\n",
       "      <td>142.000000</td>\n",
       "      <td>142.000000</td>\n",
       "      <td>142.000000</td>\n",
       "      <td>142.000000</td>\n",
       "      <td>142.000000</td>\n",
       "      <td>142.000000</td>\n",
       "      <td>142.000000</td>\n",
       "      <td>142.000000</td>\n",
       "      <td>142.000000</td>\n",
       "      <td>142.000000</td>\n",
       "    </tr>\n",
       "    <tr>\n",
       "      <th>mean</th>\n",
       "      <td>184.612676</td>\n",
       "      <td>78.978873</td>\n",
       "      <td>23.091214</td>\n",
       "      <td>27.112676</td>\n",
       "      <td>24.429577</td>\n",
       "      <td>500.105634</td>\n",
       "      <td>74.401408</td>\n",
       "      <td>168.704225</td>\n",
       "      <td>43.102817</td>\n",
       "      <td>14.830986</td>\n",
       "      <td>43.697183</td>\n",
       "      <td>24.978169</td>\n",
       "      <td>39.535211</td>\n",
       "      <td>49.422535</td>\n",
       "      <td>75.828873</td>\n",
       "      <td>22.063380</td>\n",
       "      <td>61.591549</td>\n",
       "      <td>83.654930</td>\n",
       "      <td>44.514085</td>\n",
       "      <td>17.725352</td>\n",
       "      <td>9.781690</td>\n",
       "      <td>32.288732</td>\n",
       "      <td>203.169014</td>\n",
       "      <td>1.140845</td>\n",
       "      <td>0.007042</td>\n",
       "    </tr>\n",
       "    <tr>\n",
       "      <th>std</th>\n",
       "      <td>8.698128</td>\n",
       "      <td>10.996110</td>\n",
       "      <td>2.073691</td>\n",
       "      <td>3.667180</td>\n",
       "      <td>7.075477</td>\n",
       "      <td>289.373393</td>\n",
       "      <td>55.980754</td>\n",
       "      <td>117.165809</td>\n",
       "      <td>9.855199</td>\n",
       "      <td>17.372829</td>\n",
       "      <td>46.155302</td>\n",
       "      <td>18.459075</td>\n",
       "      <td>36.743053</td>\n",
       "      <td>44.244697</td>\n",
       "      <td>18.536151</td>\n",
       "      <td>21.519648</td>\n",
       "      <td>49.669854</td>\n",
       "      <td>68.200585</td>\n",
       "      <td>41.490790</td>\n",
       "      <td>13.413312</td>\n",
       "      <td>12.537669</td>\n",
       "      <td>21.447141</td>\n",
       "      <td>153.032559</td>\n",
       "      <td>2.909002</td>\n",
       "      <td>0.083918</td>\n",
       "    </tr>\n",
       "    <tr>\n",
       "      <th>min</th>\n",
       "      <td>165.000000</td>\n",
       "      <td>55.000000</td>\n",
       "      <td>18.390675</td>\n",
       "      <td>21.000000</td>\n",
       "      <td>2.000000</td>\n",
       "      <td>12.000000</td>\n",
       "      <td>1.000000</td>\n",
       "      <td>3.000000</td>\n",
       "      <td>16.700000</td>\n",
       "      <td>0.000000</td>\n",
       "      <td>0.000000</td>\n",
       "      <td>0.000000</td>\n",
       "      <td>0.000000</td>\n",
       "      <td>0.000000</td>\n",
       "      <td>0.000000</td>\n",
       "      <td>0.000000</td>\n",
       "      <td>2.000000</td>\n",
       "      <td>2.000000</td>\n",
       "      <td>0.000000</td>\n",
       "      <td>0.000000</td>\n",
       "      <td>0.000000</td>\n",
       "      <td>2.000000</td>\n",
       "      <td>2.000000</td>\n",
       "      <td>0.000000</td>\n",
       "      <td>0.000000</td>\n",
       "    </tr>\n",
       "    <tr>\n",
       "      <th>25%</th>\n",
       "      <td>175.750000</td>\n",
       "      <td>71.500000</td>\n",
       "      <td>21.785876</td>\n",
       "      <td>24.000000</td>\n",
       "      <td>22.000000</td>\n",
       "      <td>242.250000</td>\n",
       "      <td>27.000000</td>\n",
       "      <td>69.000000</td>\n",
       "      <td>37.125000</td>\n",
       "      <td>0.000000</td>\n",
       "      <td>3.000000</td>\n",
       "      <td>0.000000</td>\n",
       "      <td>13.000000</td>\n",
       "      <td>17.250000</td>\n",
       "      <td>71.575000</td>\n",
       "      <td>7.000000</td>\n",
       "      <td>26.000000</td>\n",
       "      <td>34.250000</td>\n",
       "      <td>11.250000</td>\n",
       "      <td>7.000000</td>\n",
       "      <td>2.000000</td>\n",
       "      <td>14.000000</td>\n",
       "      <td>77.250000</td>\n",
       "      <td>0.000000</td>\n",
       "      <td>0.000000</td>\n",
       "    </tr>\n",
       "    <tr>\n",
       "      <th>50%</th>\n",
       "      <td>185.000000</td>\n",
       "      <td>79.000000</td>\n",
       "      <td>22.873314</td>\n",
       "      <td>27.000000</td>\n",
       "      <td>27.500000</td>\n",
       "      <td>506.000000</td>\n",
       "      <td>69.000000</td>\n",
       "      <td>152.500000</td>\n",
       "      <td>42.050000</td>\n",
       "      <td>10.500000</td>\n",
       "      <td>32.000000</td>\n",
       "      <td>30.550000</td>\n",
       "      <td>29.000000</td>\n",
       "      <td>35.500000</td>\n",
       "      <td>80.000000</td>\n",
       "      <td>13.000000</td>\n",
       "      <td>50.000000</td>\n",
       "      <td>62.500000</td>\n",
       "      <td>34.000000</td>\n",
       "      <td>15.000000</td>\n",
       "      <td>5.000000</td>\n",
       "      <td>28.000000</td>\n",
       "      <td>181.000000</td>\n",
       "      <td>0.000000</td>\n",
       "      <td>0.000000</td>\n",
       "    </tr>\n",
       "    <tr>\n",
       "      <th>75%</th>\n",
       "      <td>191.000000</td>\n",
       "      <td>86.000000</td>\n",
       "      <td>24.180715</td>\n",
       "      <td>30.000000</td>\n",
       "      <td>29.000000</td>\n",
       "      <td>752.500000</td>\n",
       "      <td>105.000000</td>\n",
       "      <td>244.750000</td>\n",
       "      <td>48.625000</td>\n",
       "      <td>22.000000</td>\n",
       "      <td>65.500000</td>\n",
       "      <td>36.175000</td>\n",
       "      <td>53.250000</td>\n",
       "      <td>66.500000</td>\n",
       "      <td>85.925000</td>\n",
       "      <td>31.000000</td>\n",
       "      <td>84.000000</td>\n",
       "      <td>116.500000</td>\n",
       "      <td>66.750000</td>\n",
       "      <td>27.500000</td>\n",
       "      <td>12.000000</td>\n",
       "      <td>48.000000</td>\n",
       "      <td>277.750000</td>\n",
       "      <td>1.000000</td>\n",
       "      <td>0.000000</td>\n",
       "    </tr>\n",
       "    <tr>\n",
       "      <th>max</th>\n",
       "      <td>206.000000</td>\n",
       "      <td>113.000000</td>\n",
       "      <td>31.555880</td>\n",
       "      <td>36.000000</td>\n",
       "      <td>32.000000</td>\n",
       "      <td>1018.000000</td>\n",
       "      <td>227.000000</td>\n",
       "      <td>509.000000</td>\n",
       "      <td>100.000000</td>\n",
       "      <td>88.000000</td>\n",
       "      <td>225.000000</td>\n",
       "      <td>100.000000</td>\n",
       "      <td>168.000000</td>\n",
       "      <td>186.000000</td>\n",
       "      <td>100.000000</td>\n",
       "      <td>113.000000</td>\n",
       "      <td>226.000000</td>\n",
       "      <td>334.000000</td>\n",
       "      <td>206.000000</td>\n",
       "      <td>63.000000</td>\n",
       "      <td>64.000000</td>\n",
       "      <td>87.000000</td>\n",
       "      <td>584.000000</td>\n",
       "      <td>17.000000</td>\n",
       "      <td>1.000000</td>\n",
       "    </tr>\n",
       "  </tbody>\n",
       "</table>\n",
       "</div>"
      ],
      "text/plain": [
       "           Height      Weight         BMI         Age  Games Played  \\\n",
       "count  142.000000  142.000000  142.000000  142.000000    142.000000   \n",
       "mean   184.612676   78.978873   23.091214   27.112676     24.429577   \n",
       "std      8.698128   10.996110    2.073691    3.667180      7.075477   \n",
       "min    165.000000   55.000000   18.390675   21.000000      2.000000   \n",
       "25%    175.750000   71.500000   21.785876   24.000000     22.000000   \n",
       "50%    185.000000   79.000000   22.873314   27.000000     27.500000   \n",
       "75%    191.000000   86.000000   24.180715   30.000000     29.000000   \n",
       "max    206.000000  113.000000   31.555880   36.000000     32.000000   \n",
       "\n",
       "               MIN         FGM         FGA         FG%         3PM  \\\n",
       "count   142.000000  142.000000  142.000000  142.000000  142.000000   \n",
       "mean    500.105634   74.401408  168.704225   43.102817   14.830986   \n",
       "std     289.373393   55.980754  117.165809    9.855199   17.372829   \n",
       "min      12.000000    1.000000    3.000000   16.700000    0.000000   \n",
       "25%     242.250000   27.000000   69.000000   37.125000    0.000000   \n",
       "50%     506.000000   69.000000  152.500000   42.050000   10.500000   \n",
       "75%     752.500000  105.000000  244.750000   48.625000   22.000000   \n",
       "max    1018.000000  227.000000  509.000000  100.000000   88.000000   \n",
       "\n",
       "              3PA         3P%         FTM         FTA         FT%        OREB  \\\n",
       "count  142.000000  142.000000  142.000000  142.000000  142.000000  142.000000   \n",
       "mean    43.697183   24.978169   39.535211   49.422535   75.828873   22.063380   \n",
       "std     46.155302   18.459075   36.743053   44.244697   18.536151   21.519648   \n",
       "min      0.000000    0.000000    0.000000    0.000000    0.000000    0.000000   \n",
       "25%      3.000000    0.000000   13.000000   17.250000   71.575000    7.000000   \n",
       "50%     32.000000   30.550000   29.000000   35.500000   80.000000   13.000000   \n",
       "75%     65.500000   36.175000   53.250000   66.500000   85.925000   31.000000   \n",
       "max    225.000000  100.000000  168.000000  186.000000  100.000000  113.000000   \n",
       "\n",
       "             DREB         REB         AST         STL         BLK          TO  \\\n",
       "count  142.000000  142.000000  142.000000  142.000000  142.000000  142.000000   \n",
       "mean    61.591549   83.654930   44.514085   17.725352    9.781690   32.288732   \n",
       "std     49.669854   68.200585   41.490790   13.413312   12.537669   21.447141   \n",
       "min      2.000000    2.000000    0.000000    0.000000    0.000000    2.000000   \n",
       "25%     26.000000   34.250000   11.250000    7.000000    2.000000   14.000000   \n",
       "50%     50.000000   62.500000   34.000000   15.000000    5.000000   28.000000   \n",
       "75%     84.000000  116.500000   66.750000   27.500000   12.000000   48.000000   \n",
       "max    226.000000  334.000000  206.000000   63.000000   64.000000   87.000000   \n",
       "\n",
       "              PTS         DD2         TD3  \n",
       "count  142.000000  142.000000  142.000000  \n",
       "mean   203.169014    1.140845    0.007042  \n",
       "std    153.032559    2.909002    0.083918  \n",
       "min      2.000000    0.000000    0.000000  \n",
       "25%     77.250000    0.000000    0.000000  \n",
       "50%    181.000000    0.000000    0.000000  \n",
       "75%    277.750000    1.000000    0.000000  \n",
       "max    584.000000   17.000000    1.000000  "
      ]
     },
     "execution_count": 3,
     "metadata": {},
     "output_type": "execute_result"
    }
   ],
   "source": [
    "wnba.describe()"
   ]
  },
  {
   "cell_type": "markdown",
   "metadata": {},
   "source": [
    "Most of the game-related stats have a very high range of values which can be explained by the fact that the dataset contains data on both players that play the majority of games and also players that may spend almost the entirety of the season on the bench.\n",
    "\n",
    "There are also some extremes in the weight and age columns. Feel free, if you'd like, to check which are the players with a very high (or low) age/weight and do some research on them. This is useful to confirm that they are simply outliers and not errors in the data."
   ]
  },
  {
   "cell_type": "code",
   "execution_count": 23,
   "metadata": {},
   "outputs": [
    {
     "data": {
      "text/html": [
       "<div>\n",
       "<style scoped>\n",
       "    .dataframe tbody tr th:only-of-type {\n",
       "        vertical-align: middle;\n",
       "    }\n",
       "\n",
       "    .dataframe tbody tr th {\n",
       "        vertical-align: top;\n",
       "    }\n",
       "\n",
       "    .dataframe thead th {\n",
       "        text-align: right;\n",
       "    }\n",
       "</style>\n",
       "<table border=\"1\" class=\"dataframe\">\n",
       "  <thead>\n",
       "    <tr style=\"text-align: right;\">\n",
       "      <th></th>\n",
       "      <th>Name</th>\n",
       "      <th>Team</th>\n",
       "      <th>Pos</th>\n",
       "      <th>Height</th>\n",
       "      <th>Weight</th>\n",
       "      <th>BMI</th>\n",
       "      <th>Birth_Place</th>\n",
       "      <th>Birthdate</th>\n",
       "      <th>Age</th>\n",
       "      <th>College</th>\n",
       "      <th>Experience</th>\n",
       "      <th>Games Played</th>\n",
       "      <th>MIN</th>\n",
       "      <th>FGM</th>\n",
       "      <th>FGA</th>\n",
       "      <th>FG%</th>\n",
       "      <th>3PM</th>\n",
       "      <th>3PA</th>\n",
       "      <th>3P%</th>\n",
       "      <th>FTM</th>\n",
       "      <th>FTA</th>\n",
       "      <th>FT%</th>\n",
       "      <th>OREB</th>\n",
       "      <th>DREB</th>\n",
       "      <th>REB</th>\n",
       "      <th>AST</th>\n",
       "      <th>STL</th>\n",
       "      <th>BLK</th>\n",
       "      <th>TO</th>\n",
       "      <th>PTS</th>\n",
       "      <th>DD2</th>\n",
       "      <th>TD3</th>\n",
       "    </tr>\n",
       "  </thead>\n",
       "  <tbody>\n",
       "    <tr>\n",
       "      <th>15</th>\n",
       "      <td>Angel Robinson</td>\n",
       "      <td>PHO</td>\n",
       "      <td>F/C</td>\n",
       "      <td>198</td>\n",
       "      <td>88</td>\n",
       "      <td>22.446689</td>\n",
       "      <td>US</td>\n",
       "      <td>August 30, 1995</td>\n",
       "      <td>21</td>\n",
       "      <td>Arizona State</td>\n",
       "      <td>1</td>\n",
       "      <td>15</td>\n",
       "      <td>237</td>\n",
       "      <td>25</td>\n",
       "      <td>44</td>\n",
       "      <td>56.8</td>\n",
       "      <td>1</td>\n",
       "      <td>1</td>\n",
       "      <td>100.0</td>\n",
       "      <td>7</td>\n",
       "      <td>7</td>\n",
       "      <td>100.0</td>\n",
       "      <td>16</td>\n",
       "      <td>42</td>\n",
       "      <td>58</td>\n",
       "      <td>8</td>\n",
       "      <td>1</td>\n",
       "      <td>11</td>\n",
       "      <td>16</td>\n",
       "      <td>58</td>\n",
       "      <td>0</td>\n",
       "      <td>0</td>\n",
       "    </tr>\n",
       "    <tr>\n",
       "      <th>23</th>\n",
       "      <td>Brionna Jones</td>\n",
       "      <td>CON</td>\n",
       "      <td>F</td>\n",
       "      <td>191</td>\n",
       "      <td>104</td>\n",
       "      <td>28.507990</td>\n",
       "      <td>US</td>\n",
       "      <td>December 18, 1995</td>\n",
       "      <td>21</td>\n",
       "      <td>Maryland</td>\n",
       "      <td>R</td>\n",
       "      <td>19</td>\n",
       "      <td>112</td>\n",
       "      <td>14</td>\n",
       "      <td>26</td>\n",
       "      <td>53.8</td>\n",
       "      <td>0</td>\n",
       "      <td>0</td>\n",
       "      <td>0.0</td>\n",
       "      <td>16</td>\n",
       "      <td>19</td>\n",
       "      <td>84.2</td>\n",
       "      <td>11</td>\n",
       "      <td>14</td>\n",
       "      <td>25</td>\n",
       "      <td>2</td>\n",
       "      <td>7</td>\n",
       "      <td>1</td>\n",
       "      <td>7</td>\n",
       "      <td>44</td>\n",
       "      <td>0</td>\n",
       "      <td>0</td>\n",
       "    </tr>\n",
       "    <tr>\n",
       "      <th>126</th>\n",
       "      <td>Sue Bird</td>\n",
       "      <td>SEA</td>\n",
       "      <td>G</td>\n",
       "      <td>175</td>\n",
       "      <td>68</td>\n",
       "      <td>22.204082</td>\n",
       "      <td>US</td>\n",
       "      <td>October 16, 1980</td>\n",
       "      <td>36</td>\n",
       "      <td>Connecticut</td>\n",
       "      <td>15</td>\n",
       "      <td>27</td>\n",
       "      <td>806</td>\n",
       "      <td>103</td>\n",
       "      <td>244</td>\n",
       "      <td>42.2</td>\n",
       "      <td>50</td>\n",
       "      <td>134</td>\n",
       "      <td>37.3</td>\n",
       "      <td>17</td>\n",
       "      <td>24</td>\n",
       "      <td>70.8</td>\n",
       "      <td>7</td>\n",
       "      <td>46</td>\n",
       "      <td>53</td>\n",
       "      <td>177</td>\n",
       "      <td>31</td>\n",
       "      <td>3</td>\n",
       "      <td>57</td>\n",
       "      <td>273</td>\n",
       "      <td>1</td>\n",
       "      <td>0</td>\n",
       "    </tr>\n",
       "  </tbody>\n",
       "</table>\n",
       "</div>"
      ],
      "text/plain": [
       "               Name Team  Pos  Height  Weight        BMI Birth_Place  \\\n",
       "15   Angel Robinson  PHO  F/C     198      88  22.446689          US   \n",
       "23    Brionna Jones  CON    F     191     104  28.507990          US   \n",
       "126        Sue Bird  SEA    G     175      68  22.204082          US   \n",
       "\n",
       "             Birthdate  Age        College Experience  Games Played  MIN  FGM  \\\n",
       "15     August 30, 1995   21  Arizona State          1            15  237   25   \n",
       "23   December 18, 1995   21       Maryland          R            19  112   14   \n",
       "126   October 16, 1980   36    Connecticut         15            27  806  103   \n",
       "\n",
       "     FGA   FG%  3PM  3PA    3P%  FTM  FTA    FT%  OREB  DREB  REB  AST  STL  \\\n",
       "15    44  56.8    1    1  100.0    7    7  100.0    16    42   58    8    1   \n",
       "23    26  53.8    0    0    0.0   16   19   84.2    11    14   25    2    7   \n",
       "126  244  42.2   50  134   37.3   17   24   70.8     7    46   53  177   31   \n",
       "\n",
       "     BLK  TO  PTS  DD2  TD3  \n",
       "15    11  16   58    0    0  \n",
       "23     1   7   44    0    0  \n",
       "126    3  57  273    1    0  "
      ]
     },
     "execution_count": 23,
     "metadata": {},
     "output_type": "execute_result"
    }
   ],
   "source": [
    "wnba[(wnba['Age'] == wnba['Age'].max()) | (wnba['Age'] == wnba['Age'].min())]"
   ]
  },
  {
   "cell_type": "code",
   "execution_count": 24,
   "metadata": {},
   "outputs": [
    {
     "data": {
      "text/html": [
       "<div>\n",
       "<style scoped>\n",
       "    .dataframe tbody tr th:only-of-type {\n",
       "        vertical-align: middle;\n",
       "    }\n",
       "\n",
       "    .dataframe tbody tr th {\n",
       "        vertical-align: top;\n",
       "    }\n",
       "\n",
       "    .dataframe thead th {\n",
       "        text-align: right;\n",
       "    }\n",
       "</style>\n",
       "<table border=\"1\" class=\"dataframe\">\n",
       "  <thead>\n",
       "    <tr style=\"text-align: right;\">\n",
       "      <th></th>\n",
       "      <th>Name</th>\n",
       "      <th>Team</th>\n",
       "      <th>Pos</th>\n",
       "      <th>Height</th>\n",
       "      <th>Weight</th>\n",
       "      <th>BMI</th>\n",
       "      <th>Birth_Place</th>\n",
       "      <th>Birthdate</th>\n",
       "      <th>Age</th>\n",
       "      <th>College</th>\n",
       "      <th>Experience</th>\n",
       "      <th>Games Played</th>\n",
       "      <th>MIN</th>\n",
       "      <th>FGM</th>\n",
       "      <th>FGA</th>\n",
       "      <th>FG%</th>\n",
       "      <th>3PM</th>\n",
       "      <th>3PA</th>\n",
       "      <th>3P%</th>\n",
       "      <th>FTM</th>\n",
       "      <th>FTA</th>\n",
       "      <th>FT%</th>\n",
       "      <th>OREB</th>\n",
       "      <th>DREB</th>\n",
       "      <th>REB</th>\n",
       "      <th>AST</th>\n",
       "      <th>STL</th>\n",
       "      <th>BLK</th>\n",
       "      <th>TO</th>\n",
       "      <th>PTS</th>\n",
       "      <th>DD2</th>\n",
       "      <th>TD3</th>\n",
       "    </tr>\n",
       "  </thead>\n",
       "  <tbody>\n",
       "    <tr>\n",
       "      <th>12</th>\n",
       "      <td>Amanda Zahui B.</td>\n",
       "      <td>NY</td>\n",
       "      <td>C</td>\n",
       "      <td>196</td>\n",
       "      <td>113</td>\n",
       "      <td>29.414827</td>\n",
       "      <td>SE</td>\n",
       "      <td>August 9, 1993</td>\n",
       "      <td>24</td>\n",
       "      <td>Minnesota</td>\n",
       "      <td>3</td>\n",
       "      <td>25</td>\n",
       "      <td>133</td>\n",
       "      <td>20</td>\n",
       "      <td>53</td>\n",
       "      <td>37.7</td>\n",
       "      <td>2</td>\n",
       "      <td>8</td>\n",
       "      <td>25.0</td>\n",
       "      <td>9</td>\n",
       "      <td>12</td>\n",
       "      <td>75.0</td>\n",
       "      <td>5</td>\n",
       "      <td>18</td>\n",
       "      <td>23</td>\n",
       "      <td>7</td>\n",
       "      <td>4</td>\n",
       "      <td>5</td>\n",
       "      <td>12</td>\n",
       "      <td>51</td>\n",
       "      <td>0</td>\n",
       "      <td>0</td>\n",
       "    </tr>\n",
       "    <tr>\n",
       "      <th>36</th>\n",
       "      <td>Courtney Paris</td>\n",
       "      <td>DAL</td>\n",
       "      <td>C</td>\n",
       "      <td>193</td>\n",
       "      <td>113</td>\n",
       "      <td>30.336385</td>\n",
       "      <td>US</td>\n",
       "      <td>September 21, 1987</td>\n",
       "      <td>29</td>\n",
       "      <td>Oklahoma</td>\n",
       "      <td>7</td>\n",
       "      <td>16</td>\n",
       "      <td>217</td>\n",
       "      <td>32</td>\n",
       "      <td>57</td>\n",
       "      <td>56.1</td>\n",
       "      <td>0</td>\n",
       "      <td>0</td>\n",
       "      <td>0.0</td>\n",
       "      <td>6</td>\n",
       "      <td>12</td>\n",
       "      <td>50.0</td>\n",
       "      <td>28</td>\n",
       "      <td>34</td>\n",
       "      <td>62</td>\n",
       "      <td>5</td>\n",
       "      <td>6</td>\n",
       "      <td>8</td>\n",
       "      <td>18</td>\n",
       "      <td>70</td>\n",
       "      <td>0</td>\n",
       "      <td>0</td>\n",
       "    </tr>\n",
       "    <tr>\n",
       "      <th>96</th>\n",
       "      <td>Moriah Jefferson</td>\n",
       "      <td>SAN</td>\n",
       "      <td>G</td>\n",
       "      <td>168</td>\n",
       "      <td>55</td>\n",
       "      <td>19.486961</td>\n",
       "      <td>US</td>\n",
       "      <td>August 3, 1994</td>\n",
       "      <td>23</td>\n",
       "      <td>Connecticut</td>\n",
       "      <td>1</td>\n",
       "      <td>21</td>\n",
       "      <td>514</td>\n",
       "      <td>81</td>\n",
       "      <td>155</td>\n",
       "      <td>52.3</td>\n",
       "      <td>9</td>\n",
       "      <td>20</td>\n",
       "      <td>45.0</td>\n",
       "      <td>20</td>\n",
       "      <td>27</td>\n",
       "      <td>74.1</td>\n",
       "      <td>6</td>\n",
       "      <td>31</td>\n",
       "      <td>37</td>\n",
       "      <td>92</td>\n",
       "      <td>33</td>\n",
       "      <td>2</td>\n",
       "      <td>43</td>\n",
       "      <td>191</td>\n",
       "      <td>0</td>\n",
       "      <td>0</td>\n",
       "    </tr>\n",
       "  </tbody>\n",
       "</table>\n",
       "</div>"
      ],
      "text/plain": [
       "                Name Team Pos  Height  Weight        BMI Birth_Place  \\\n",
       "12   Amanda Zahui B.   NY   C     196     113  29.414827          SE   \n",
       "36    Courtney Paris  DAL   C     193     113  30.336385          US   \n",
       "96  Moriah Jefferson  SAN   G     168      55  19.486961          US   \n",
       "\n",
       "             Birthdate  Age      College Experience  Games Played  MIN  FGM  \\\n",
       "12      August 9, 1993   24    Minnesota          3            25  133   20   \n",
       "36  September 21, 1987   29     Oklahoma          7            16  217   32   \n",
       "96      August 3, 1994   23  Connecticut          1            21  514   81   \n",
       "\n",
       "    FGA   FG%  3PM  3PA   3P%  FTM  FTA   FT%  OREB  DREB  REB  AST  STL  BLK  \\\n",
       "12   53  37.7    2    8  25.0    9   12  75.0     5    18   23    7    4    5   \n",
       "36   57  56.1    0    0   0.0    6   12  50.0    28    34   62    5    6    8   \n",
       "96  155  52.3    9   20  45.0   20   27  74.1     6    31   37   92   33    2   \n",
       "\n",
       "    TO  PTS  DD2  TD3  \n",
       "12  12   51    0    0  \n",
       "36  18   70    0    0  \n",
       "96  43  191    0    0  "
      ]
     },
     "execution_count": 24,
     "metadata": {},
     "output_type": "execute_result"
    }
   ],
   "source": [
    "wnba[(wnba['Weight'] == wnba['Weight'].max()) | (wnba['Weight'] == wnba['Weight'].min())]"
   ]
  },
  {
   "cell_type": "markdown",
   "metadata": {},
   "source": [
    "### Looking at the distributions of the data\n",
    "Let's take a look at the distribution of the 4 stats that describe the physical characteristics of the players.\n",
    "\n",
    "**Plot the four distributions about `height`, `weight`, `age` and `BMI`.**"
   ]
  },
  {
   "cell_type": "code",
   "execution_count": 9,
   "metadata": {},
   "outputs": [
    {
     "data": {
      "image/png": "[encoded data removed]",
      "text/plain": [
       "<Figure size 432x288 with 1 Axes>"
      ]
     },
     "metadata": {
      "needs_background": "light"
     },
     "output_type": "display_data"
    }
   ],
   "source": [
    "plt.hist(wnba[\"Height\"])\n",
    "plt.show()"
   ]
  },
  {
   "cell_type": "code",
   "execution_count": 10,
   "metadata": {},
   "outputs": [
    {
     "data": {
      "image/png": "[encoded data removed]",
      "text/plain": [
       "<Figure size 432x288 with 1 Axes>"
      ]
     },
     "metadata": {
      "needs_background": "light"
     },
     "output_type": "display_data"
    }
   ],
   "source": [
    "plt.hist(wnba[\"Weight\"])\n",
    "plt.show()"
   ]
  },
  {
   "cell_type": "code",
   "execution_count": 11,
   "metadata": {},
   "outputs": [
    {
     "data": {
      "image/png": "[encoded data removed]",
      "text/plain": [
       "<Figure size 432x288 with 1 Axes>"
      ]
     },
     "metadata": {
      "needs_background": "light"
     },
     "output_type": "display_data"
    }
   ],
   "source": [
    "plt.hist(wnba[\"Age\"])\n",
    "plt.show()"
   ]
  },
  {
   "cell_type": "code",
   "execution_count": 12,
   "metadata": {},
   "outputs": [
    {
     "data": {
      "image/png": "[encoded data removed]",
      "text/plain": [
       "<Figure size 432x288 with 1 Axes>"
      ]
     },
     "metadata": {
      "needs_background": "light"
     },
     "output_type": "display_data"
    }
   ],
   "source": [
    "plt.hist(wnba[\"BMI\"])\n",
    "plt.show()"
   ]
  },
  {
   "cell_type": "markdown",
   "metadata": {},
   "source": [
    "**What conclusions do you think we can take from this plots?**"
   ]
  },
  {
   "cell_type": "code",
   "execution_count": 6,
   "metadata": {},
   "outputs": [],
   "source": [
    "# BMI (I'm assuming it refers to Body Mass Index?) seems to follow a normal distribution, \n",
    "# and it is skewed to the right. \n",
    "# Age also seems to follow a normal distribution, skewed to the right. However, given\n",
    "# the relatively small size of the sample, it is harder to notice, because there are some peaks.\n",
    "# In weight and height there seem to be 2 major peaks."
   ]
  },
  {
   "cell_type": "markdown",
   "metadata": {},
   "source": [
    "In addition to what the describe() method already told us we can see that the physical characteristics of the players (apart from the age) more or less follow a standard distribution, which is expected when looking at the distribution of values that arise from a lot of factors that are independent from each other as is the case for many physical quantities. \n",
    "\n",
    "The height distribution looks like a bimodal. This may be due to the fact that players in basketball fall under two main categories (please note that this is a very gross generalization): shorter and more agile, and taller and less agile. Therefore there are less \"average\" height players since they will neither be as agile as the shorter players nor have the same impact in the paint (that is, under the basket) as a taller player.\n",
    "\n",
    "The age distribution is a bit skewed to the right which is expected since most professional players stop playing after their prime physical years come to an end."
   ]
  },
  {
   "cell_type": "markdown",
   "metadata": {},
   "source": [
    "We could do the same for the main game stats. They are points, assists, blocks, rebounds and steals. \n",
    "\n",
    "**Now plot the distribution of the columns `REB`, `AST`, `STL`, `PTS` and `BLK` the same way you did in the last cell.**"
   ]
  },
  {
   "cell_type": "code",
   "execution_count": 13,
   "metadata": {},
   "outputs": [
    {
     "data": {
      "image/png": "[encoded data removed]",
      "text/plain": [
       "<Figure size 432x288 with 1 Axes>"
      ]
     },
     "metadata": {
      "needs_background": "light"
     },
     "output_type": "display_data"
    }
   ],
   "source": [
    "plt.hist(wnba[\"REB\"])\n",
    "plt.show()"
   ]
  },
  {
   "cell_type": "code",
   "execution_count": 14,
   "metadata": {},
   "outputs": [
    {
     "data": {
      "image/png": "[encoded data removed]",
      "text/plain": [
       "<Figure size 432x288 with 1 Axes>"
      ]
     },
     "metadata": {
      "needs_background": "light"
     },
     "output_type": "display_data"
    }
   ],
   "source": [
    "plt.hist(wnba[\"AST\"])\n",
    "plt.show()"
   ]
  },
  {
   "cell_type": "code",
   "execution_count": 15,
   "metadata": {},
   "outputs": [
    {
     "data": {
      "image/png": "[encoded data removed]",
      "text/plain": [
       "<Figure size 432x288 with 1 Axes>"
      ]
     },
     "metadata": {
      "needs_background": "light"
     },
     "output_type": "display_data"
    }
   ],
   "source": [
    "plt.hist(wnba[\"STL\"])\n",
    "plt.show()"
   ]
  },
  {
   "cell_type": "code",
   "execution_count": 16,
   "metadata": {},
   "outputs": [
    {
     "data": {
      "image/png": "[encoded data removed]",
      "text/plain": [
       "<Figure size 432x288 with 1 Axes>"
      ]
     },
     "metadata": {
      "needs_background": "light"
     },
     "output_type": "display_data"
    }
   ],
   "source": [
    "plt.hist(wnba[\"PTS\"])\n",
    "plt.show()"
   ]
  },
  {
   "cell_type": "code",
   "execution_count": 17,
   "metadata": {},
   "outputs": [
    {
     "data": {
      "image/png": "[encoded data removed]",
      "text/plain": [
       "<Figure size 432x288 with 1 Axes>"
      ]
     },
     "metadata": {
      "needs_background": "light"
     },
     "output_type": "display_data"
    }
   ],
   "source": [
    "plt.hist(wnba[\"BLK\"])\n",
    "plt.show()"
   ]
  },
  {
   "cell_type": "markdown",
   "metadata": {},
   "source": [
    "**What conclusions do you think we can take from this plots?**"
   ]
  },
  {
   "cell_type": "code",
   "execution_count": null,
   "metadata": {},
   "outputs": [],
   "source": [
    "# All distributions are clearly skewed to the right.\n",
    "# I would assume this is because there are a few best players with very high statistics, and then\n",
    "# a much larger number of players who do not achieve such high scores / statistics."
   ]
  },
  {
   "cell_type": "markdown",
   "metadata": {},
   "source": [
    "As expected all of the above distribution are heavily skewed to the right, since most players will have very low to average stats while there will be a handful of star players whose stats peak above everyone else. It is also important to think about the fact that we are simply taking the stats as they are without considering the minutes played by each player. Even though skill plays a very important factor in determining this kind of stats we also have to consider that players that play more minutes will, on average, score more points (or blocks, assists, etc.)."
   ]
  },
  {
   "cell_type": "markdown",
   "metadata": {},
   "source": [
    "**For the sake of it let's look at the same distributions by dividing those stats by the minutes played for each player in the dataset.** "
   ]
  },
  {
   "cell_type": "code",
   "execution_count": 18,
   "metadata": {},
   "outputs": [
    {
     "data": {
      "image/png": "[encoded data removed]",
      "text/plain": [
       "<Figure size 432x288 with 1 Axes>"
      ]
     },
     "metadata": {
      "needs_background": "light"
     },
     "output_type": "display_data"
    }
   ],
   "source": [
    "plt.hist((wnba[\"REB\"]/wnba[\"MIN\"]))\n",
    "plt.show()"
   ]
  },
  {
   "cell_type": "code",
   "execution_count": 19,
   "metadata": {},
   "outputs": [
    {
     "data": {
      "image/png": "[encoded data removed]",
      "text/plain": [
       "<Figure size 432x288 with 1 Axes>"
      ]
     },
     "metadata": {
      "needs_background": "light"
     },
     "output_type": "display_data"
    }
   ],
   "source": [
    "plt.hist((wnba[\"AST\"]/wnba[\"MIN\"]))\n",
    "plt.show()"
   ]
  },
  {
   "cell_type": "code",
   "execution_count": 20,
   "metadata": {},
   "outputs": [
    {
     "data": {
      "image/png": "[encoded data removed]",
      "text/plain": [
       "<Figure size 432x288 with 1 Axes>"
      ]
     },
     "metadata": {
      "needs_background": "light"
     },
     "output_type": "display_data"
    }
   ],
   "source": [
    "plt.hist((wnba[\"STL\"]/wnba[\"MIN\"]))\n",
    "plt.show()"
   ]
  },
  {
   "cell_type": "code",
   "execution_count": 21,
   "metadata": {},
   "outputs": [
    {
     "data": {
      "image/png": "[encoded data removed]",
      "text/plain": [
       "<Figure size 432x288 with 1 Axes>"
      ]
     },
     "metadata": {
      "needs_background": "light"
     },
     "output_type": "display_data"
    }
   ],
   "source": [
    "plt.hist((wnba[\"PTS\"]/wnba[\"MIN\"]))\n",
    "plt.show()"
   ]
  },
  {
   "cell_type": "code",
   "execution_count": 22,
   "metadata": {},
   "outputs": [
    {
     "data": {
      "image/png": "[encoded data removed]",
      "text/plain": [
       "<Figure size 432x288 with 1 Axes>"
      ]
     },
     "metadata": {
      "needs_background": "light"
     },
     "output_type": "display_data"
    }
   ],
   "source": [
    "plt.hist((wnba[\"BLK\"]/wnba[\"MIN\"]))\n",
    "plt.show()"
   ]
  },
  {
   "cell_type": "markdown",
   "metadata": {},
   "source": [
    "**What conclusions do you think we can take from this plots?**"
   ]
  },
  {
   "cell_type": "code",
   "execution_count": null,
   "metadata": {},
   "outputs": [],
   "source": [
    "# With the exception of BLK, we see that when we take into account the number of minutes played \n",
    "# all other statistics are less skewed to the right. The minutes played balance more the results\n",
    "# between all players, and so it starts to look more like a normal distribution. "
   ]
  },
  {
   "cell_type": "markdown",
   "metadata": {},
   "source": [
    "### Summary\n",
    "\n",
    "The main insights we obtained from this exploratory analysis are:\n",
    "- Game-related stats have a very high range of values.\n",
    "- There are some extremes in the weight and age columns.\n",
    "- The physical characteristics of the players more or less follow a standard distribution.\n",
    "- We need to take into account that our dataset contains data on both players that play the majority of games and also players that may spend almost the entirety of the season on the bench.\n",
    "\n",
    "Now, it's time to try to put an end to your family's discussions. As seen on the README, the main discussions are:\n",
    "- Your grandmother says that your sister couldn't play in a professional basketball league (not only the WNBA, but ANY professional basketball league) because she's too skinny and lacks muscle.\n",
    "- Your sister says that most female professional players fail their free throws.\n",
    "- Your brother-in-law heard on the TV that the average assists among NBA (male) and WNBA (female) players is 52 for the 2016-2017 season. He is convinced this average would be higher if we only considered the players from the WNBA.\n",
    "\n",
    "**Do you think you have all the necessary data to answer these questions?**"
   ]
  },
  {
   "cell_type": "code",
   "execution_count": null,
   "metadata": {},
   "outputs": [],
   "source": [
    "# We have data about weight and BMI, so we can answer to the first point from our grandmother.\n",
    "# We have statistics about the players, so we should also be able to check if what our siblings \n",
    "# say about free throws and assists stands true."
   ]
  }
 ],
 "metadata": {
  "interpreter": {
   "hash": "df1e530b06c038aca8dfbfe65ce8d1df3600bb82945a1ea01c8811dba597269e"
  },
  "kernelspec": {
   "display_name": "Python 3.9.7 ('base')",
   "language": "python",
   "name": "python3"
  },
  "language_info": {
   "codemirror_mode": {
    "name": "ipython",
    "version": 3
   },
   "file_extension": ".py",
   "mimetype": "text/x-python",
   "name": "python",
   "nbconvert_exporter": "python",
   "pygments_lexer": "ipython3",
   "version": "3.9.7"
  }
 },
 "nbformat": 4,
 "nbformat_minor": 2
}
