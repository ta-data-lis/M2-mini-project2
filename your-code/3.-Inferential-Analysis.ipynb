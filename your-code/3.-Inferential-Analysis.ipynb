{
 "cells": [
  {
   "cell_type": "markdown",
   "metadata": {},
   "source": [
    "# Inferential statistics\n",
    "## Part III - Inferential Analysis\n",
    "\n",
    "We're now going to look for answers to the ongoing basketball discussions between you and your family. The main ones we want to reasearch are the following:\n",
    "\n",
    "- Your grandmother says that your sister couldn't play in a professional basketball league (not only the WNBA, but ANY professional basketball league) because she's too skinny and lacks muscle.\n",
    "- Your sister says that most female professional players fail their free throws.\n",
    "- Your brother-in-law heard on the TV that the average assists among NBA (male) and WNBA (female) players is 52 for the 2016-2017 season. He is convinced this average would be higher if we only considered the players from the WNBA.\n",
    "\n",
    "Let's investigate these claims and see if we can find proof to refute or support them.\n",
    "\n",
    "### Libraries\n",
    "Import the necessary libraries first."
   ]
  },
  {
   "cell_type": "code",
   "execution_count": 1,
   "metadata": {},
   "outputs": [],
   "source": [
    "# Libraries\n",
    "import math\n",
    "import pandas as pd\n",
    "import numpy as np\n",
    "from scipy import stats\n",
    "import matplotlib.pyplot as plt\n",
    "from scipy.stats import ttest_1samp\n",
    "pd.set_option('display.max_columns', 50)"
   ]
  },
  {
   "cell_type": "markdown",
   "metadata": {},
   "source": [
    "### Load the dataset\n",
    "\n",
    "Load the cleaned dataset."
   ]
  },
  {
   "cell_type": "code",
   "execution_count": 2,
   "metadata": {},
   "outputs": [
    {
     "name": "stdout",
     "output_type": "stream",
     "text": [
      "(142, 33)\n"
     ]
    },
    {
     "data": {
      "text/html": [
       "<div>\n",
       "<style scoped>\n",
       "    .dataframe tbody tr th:only-of-type {\n",
       "        vertical-align: middle;\n",
       "    }\n",
       "\n",
       "    .dataframe tbody tr th {\n",
       "        vertical-align: top;\n",
       "    }\n",
       "\n",
       "    .dataframe thead th {\n",
       "        text-align: right;\n",
       "    }\n",
       "</style>\n",
       "<table border=\"1\" class=\"dataframe\">\n",
       "  <thead>\n",
       "    <tr style=\"text-align: right;\">\n",
       "      <th></th>\n",
       "      <th>Unnamed: 0</th>\n",
       "      <th>Name</th>\n",
       "      <th>Team</th>\n",
       "      <th>Pos</th>\n",
       "      <th>Height</th>\n",
       "      <th>Weight</th>\n",
       "      <th>BMI</th>\n",
       "      <th>Birth_Place</th>\n",
       "      <th>Birthdate</th>\n",
       "      <th>Age</th>\n",
       "      <th>College</th>\n",
       "      <th>Experience</th>\n",
       "      <th>Games Played</th>\n",
       "      <th>MIN</th>\n",
       "      <th>FGM</th>\n",
       "      <th>FGA</th>\n",
       "      <th>FG%</th>\n",
       "      <th>3PM</th>\n",
       "      <th>3PA</th>\n",
       "      <th>3P%</th>\n",
       "      <th>FTM</th>\n",
       "      <th>FTA</th>\n",
       "      <th>FT%</th>\n",
       "      <th>OREB</th>\n",
       "      <th>DREB</th>\n",
       "      <th>REB</th>\n",
       "      <th>AST</th>\n",
       "      <th>STL</th>\n",
       "      <th>BLK</th>\n",
       "      <th>TO</th>\n",
       "      <th>PTS</th>\n",
       "      <th>DD2</th>\n",
       "      <th>TD3</th>\n",
       "    </tr>\n",
       "  </thead>\n",
       "  <tbody>\n",
       "    <tr>\n",
       "      <th>0</th>\n",
       "      <td>0</td>\n",
       "      <td>Aerial Powers</td>\n",
       "      <td>DAL</td>\n",
       "      <td>F</td>\n",
       "      <td>183</td>\n",
       "      <td>71</td>\n",
       "      <td>21.200991</td>\n",
       "      <td>US</td>\n",
       "      <td>January 17, 1994</td>\n",
       "      <td>23</td>\n",
       "      <td>Michigan State</td>\n",
       "      <td>2</td>\n",
       "      <td>8</td>\n",
       "      <td>173</td>\n",
       "      <td>30</td>\n",
       "      <td>85</td>\n",
       "      <td>35.3</td>\n",
       "      <td>12</td>\n",
       "      <td>32</td>\n",
       "      <td>37.5</td>\n",
       "      <td>21</td>\n",
       "      <td>26</td>\n",
       "      <td>80.8</td>\n",
       "      <td>6</td>\n",
       "      <td>22</td>\n",
       "      <td>28</td>\n",
       "      <td>12</td>\n",
       "      <td>3</td>\n",
       "      <td>6</td>\n",
       "      <td>12</td>\n",
       "      <td>93</td>\n",
       "      <td>0</td>\n",
       "      <td>0</td>\n",
       "    </tr>\n",
       "    <tr>\n",
       "      <th>1</th>\n",
       "      <td>1</td>\n",
       "      <td>Alana Beard</td>\n",
       "      <td>LA</td>\n",
       "      <td>G/F</td>\n",
       "      <td>185</td>\n",
       "      <td>73</td>\n",
       "      <td>21.329438</td>\n",
       "      <td>US</td>\n",
       "      <td>May 14, 1982</td>\n",
       "      <td>35</td>\n",
       "      <td>Duke</td>\n",
       "      <td>12</td>\n",
       "      <td>30</td>\n",
       "      <td>947</td>\n",
       "      <td>90</td>\n",
       "      <td>177</td>\n",
       "      <td>50.8</td>\n",
       "      <td>5</td>\n",
       "      <td>18</td>\n",
       "      <td>27.8</td>\n",
       "      <td>32</td>\n",
       "      <td>41</td>\n",
       "      <td>78.0</td>\n",
       "      <td>19</td>\n",
       "      <td>82</td>\n",
       "      <td>101</td>\n",
       "      <td>72</td>\n",
       "      <td>63</td>\n",
       "      <td>13</td>\n",
       "      <td>40</td>\n",
       "      <td>217</td>\n",
       "      <td>0</td>\n",
       "      <td>0</td>\n",
       "    </tr>\n",
       "    <tr>\n",
       "      <th>2</th>\n",
       "      <td>2</td>\n",
       "      <td>Alex Bentley</td>\n",
       "      <td>CON</td>\n",
       "      <td>G</td>\n",
       "      <td>170</td>\n",
       "      <td>69</td>\n",
       "      <td>23.875433</td>\n",
       "      <td>US</td>\n",
       "      <td>October 27, 1990</td>\n",
       "      <td>26</td>\n",
       "      <td>Penn State</td>\n",
       "      <td>4</td>\n",
       "      <td>26</td>\n",
       "      <td>617</td>\n",
       "      <td>82</td>\n",
       "      <td>218</td>\n",
       "      <td>37.6</td>\n",
       "      <td>19</td>\n",
       "      <td>64</td>\n",
       "      <td>29.7</td>\n",
       "      <td>35</td>\n",
       "      <td>42</td>\n",
       "      <td>83.3</td>\n",
       "      <td>4</td>\n",
       "      <td>36</td>\n",
       "      <td>40</td>\n",
       "      <td>78</td>\n",
       "      <td>22</td>\n",
       "      <td>3</td>\n",
       "      <td>24</td>\n",
       "      <td>218</td>\n",
       "      <td>0</td>\n",
       "      <td>0</td>\n",
       "    </tr>\n",
       "    <tr>\n",
       "      <th>3</th>\n",
       "      <td>3</td>\n",
       "      <td>Alex Montgomery</td>\n",
       "      <td>SAN</td>\n",
       "      <td>G/F</td>\n",
       "      <td>185</td>\n",
       "      <td>84</td>\n",
       "      <td>24.543462</td>\n",
       "      <td>US</td>\n",
       "      <td>December 11, 1988</td>\n",
       "      <td>28</td>\n",
       "      <td>Georgia Tech</td>\n",
       "      <td>6</td>\n",
       "      <td>31</td>\n",
       "      <td>721</td>\n",
       "      <td>75</td>\n",
       "      <td>195</td>\n",
       "      <td>38.5</td>\n",
       "      <td>21</td>\n",
       "      <td>68</td>\n",
       "      <td>30.9</td>\n",
       "      <td>17</td>\n",
       "      <td>21</td>\n",
       "      <td>81.0</td>\n",
       "      <td>35</td>\n",
       "      <td>134</td>\n",
       "      <td>169</td>\n",
       "      <td>65</td>\n",
       "      <td>20</td>\n",
       "      <td>10</td>\n",
       "      <td>38</td>\n",
       "      <td>188</td>\n",
       "      <td>2</td>\n",
       "      <td>0</td>\n",
       "    </tr>\n",
       "    <tr>\n",
       "      <th>4</th>\n",
       "      <td>4</td>\n",
       "      <td>Alexis Jones</td>\n",
       "      <td>MIN</td>\n",
       "      <td>G</td>\n",
       "      <td>175</td>\n",
       "      <td>78</td>\n",
       "      <td>25.469388</td>\n",
       "      <td>US</td>\n",
       "      <td>August 5, 1994</td>\n",
       "      <td>23</td>\n",
       "      <td>Baylor</td>\n",
       "      <td>R</td>\n",
       "      <td>24</td>\n",
       "      <td>137</td>\n",
       "      <td>16</td>\n",
       "      <td>50</td>\n",
       "      <td>32.0</td>\n",
       "      <td>7</td>\n",
       "      <td>20</td>\n",
       "      <td>35.0</td>\n",
       "      <td>11</td>\n",
       "      <td>12</td>\n",
       "      <td>91.7</td>\n",
       "      <td>3</td>\n",
       "      <td>9</td>\n",
       "      <td>12</td>\n",
       "      <td>12</td>\n",
       "      <td>7</td>\n",
       "      <td>0</td>\n",
       "      <td>14</td>\n",
       "      <td>50</td>\n",
       "      <td>0</td>\n",
       "      <td>0</td>\n",
       "    </tr>\n",
       "  </tbody>\n",
       "</table>\n",
       "</div>"
      ],
      "text/plain": [
       "   Unnamed: 0             Name Team  Pos  Height  Weight        BMI  \\\n",
       "0           0    Aerial Powers  DAL    F     183      71  21.200991   \n",
       "1           1      Alana Beard   LA  G/F     185      73  21.329438   \n",
       "2           2     Alex Bentley  CON    G     170      69  23.875433   \n",
       "3           3  Alex Montgomery  SAN  G/F     185      84  24.543462   \n",
       "4           4     Alexis Jones  MIN    G     175      78  25.469388   \n",
       "\n",
       "  Birth_Place          Birthdate  Age         College Experience  \\\n",
       "0          US   January 17, 1994   23  Michigan State          2   \n",
       "1          US       May 14, 1982   35            Duke         12   \n",
       "2          US   October 27, 1990   26      Penn State          4   \n",
       "3          US  December 11, 1988   28    Georgia Tech          6   \n",
       "4          US     August 5, 1994   23          Baylor          R   \n",
       "\n",
       "   Games Played  MIN  FGM  FGA   FG%  3PM  3PA   3P%  FTM  FTA   FT%  OREB  \\\n",
       "0             8  173   30   85  35.3   12   32  37.5   21   26  80.8     6   \n",
       "1            30  947   90  177  50.8    5   18  27.8   32   41  78.0    19   \n",
       "2            26  617   82  218  37.6   19   64  29.7   35   42  83.3     4   \n",
       "3            31  721   75  195  38.5   21   68  30.9   17   21  81.0    35   \n",
       "4            24  137   16   50  32.0    7   20  35.0   11   12  91.7     3   \n",
       "\n",
       "   DREB  REB  AST  STL  BLK  TO  PTS  DD2  TD3  \n",
       "0    22   28   12    3    6  12   93    0    0  \n",
       "1    82  101   72   63   13  40  217    0    0  \n",
       "2    36   40   78   22    3  24  218    0    0  \n",
       "3   134  169   65   20   10  38  188    2    0  \n",
       "4     9   12   12    7    0  14   50    0    0  "
      ]
     },
     "execution_count": 2,
     "metadata": {},
     "output_type": "execute_result"
    }
   ],
   "source": [
    "#your code here\n",
    "wnba = pd.read_csv(\"../data/wnba_clean.csv\")\n",
    "print(wnba.shape)\n",
    "wnba.head()"
   ]
  },
  {
   "cell_type": "markdown",
   "metadata": {},
   "source": [
    "# Question 1: Can my sister play in a professional female basketball league?\n",
    "\n",
    "As we said, you grandmother is convinced that your sister couldn't play in a professional league because of her physique and weight (her weight is 67kg). \n",
    "\n",
    "To find an actual answer to the question we first need to know what's the average weight of a professional female basketball player. The data we have only refers to the WNBA league and not to every female professional basketball league in the world, therefore we have no way of actually calculating it.\n",
    "\n",
    "Still, given that we do have *some* data we can **infer** it using a sample of players like the one we have. \n",
    "\n",
    "**How would you do it? Try and think about the requirements that your sample must satisfy in order to be used to infer the average weight. Do you feel it actually fulfills those requirements? Do you need to make any assumptions? We could calculate a confidence interval to do the inference, but do you know any other ways?**"
   ]
  },
  {
   "cell_type": "code",
   "execution_count": 3,
   "metadata": {},
   "outputs": [],
   "source": [
    "# your answer here\n",
    "# In the previous analysis, weight in the sample data was seen to be approximately normal distributed. So the normal \n",
    "# distribution can be used to make predictions about this data, inferring from the sample to the population.\n",
    "# As mean and std are influenced by outliers, I'll do the analysis without them."
   ]
  },
  {
   "cell_type": "markdown",
   "metadata": {},
   "source": [
    "**Now that all the requirements have been taken into account, compute the confidence interval of the average weight with a confidence level of 95%.**"
   ]
  },
  {
   "cell_type": "code",
   "execution_count": 12,
   "metadata": {},
   "outputs": [
    {
     "name": "stdout",
     "output_type": "stream",
     "text": [
      "The confidence interval for 95% is (76.77436470955581, 80.21134957615848)\n"
     ]
    }
   ],
   "source": [
    "# your code here\n",
    "sample_mean = wnba[wnba[\"Weight\"]<109][\"Weight\"].mean()\n",
    "sample_std = wnba[wnba[\"Weight\"]<109][\"Weight\"].std(ddof=1)\n",
    "sample_n = len(wnba[wnba[\"Weight\"]<109])\n",
    "\n",
    "confidence_interval95 = stats.t.interval(0.95, sample_n-1, loc = sample_mean, scale = sample_std/np.sqrt(sample_n))\n",
    "\n",
    "print(f\"The confidence interval for 95% is {confidence_interval95}\")"
   ]
  },
  {
   "cell_type": "markdown",
   "metadata": {},
   "source": [
    "**What can you say about these results?**"
   ]
  },
  {
   "cell_type": "code",
   "execution_count": 10,
   "metadata": {},
   "outputs": [],
   "source": [
    "#your-answer-here\n",
    "#Based on this sample, one can say with 95% confidence that the mean weight of a female professional basketball player is \n",
    "# between 76.8 kg and 80.2 kg. Even though the minimum weight in the data is 55 kg, this can be seen as a far outlier, not a rule."
   ]
  },
  {
   "cell_type": "markdown",
   "metadata": {},
   "source": [
    "**If your sister weighs 67kg what would you tell your grandmother in regards to her assumption?**"
   ]
  },
  {
   "cell_type": "code",
   "execution_count": 9,
   "metadata": {},
   "outputs": [],
   "source": [
    "#your-answer-here\n",
    "#\"This means that with 67kg, the sister is outside of the CI of 95%. Starting from this sample, the answer is yes,\n",
    "#     she is to far removed from the mean to play professionally. With 95% confidence one can say that she would not be \n",
    "#     a professional basketball player."
   ]
  },
  {
   "cell_type": "markdown",
   "metadata": {},
   "source": [
    "## Bonus: Can you plot the probability distribution of the average weight, indicating where the critical region is?"
   ]
  },
  {
   "cell_type": "code",
   "execution_count": 20,
   "metadata": {},
   "outputs": [
    {
     "data": {
      "image/png": "[encoded data removed]",
      "text/plain": [
       "<Figure size 640x480 with 1 Axes>"
      ]
     },
     "metadata": {},
     "output_type": "display_data"
    },
    {
     "data": {
      "text/plain": [
       "0.24285714285714285"
      ]
     },
     "execution_count": 20,
     "metadata": {},
     "output_type": "execute_result"
    }
   ],
   "source": [
    "# your code here\n",
    "x = np.arange(50, 120, 0.1)\n",
    "pdf = stats.norm.pdf(x, sample_mean, sample_std)\n",
    "\n",
    "plt.plot(x, pdf)\n",
    "\n",
    "low = confidence_interval95[0]\n",
    "high = confidence_interval95[1]\n",
    "plt.fill_between(x, pdf, where=(low < x) & (x < high))\n",
    "\n",
    "plt.show()\n",
    "\n",
    "## what is the probability of getting a value between 0 and 67?\n",
    "#probability for values 67 and under:\n",
    "prob67 = len(x[x<=67])/len(x)\n",
    "prob67\n",
    "# prob67 is only 0.24285."
   ]
  },
  {
   "cell_type": "markdown",
   "metadata": {},
   "source": [
    "# Question 2: Do female professional basketball players fail the majority of their free throws?\n",
    "\n",
    "You do not agree with your sister when she says that most female players fail their free throws. You decide to try and estimate the percentage of players that fail more than 40% of their free throws using, you guessed it, the WNBA sample.\n",
    "\n",
    "**How would you do it? Try and think about the requirements that your sample must satisfy in order to be used to infer the proportion of players that miss more than 40% of their free throws. Do you feel it actually fulfills those requirements? Do you need to make any assumptions?**"
   ]
  },
  {
   "cell_type": "code",
   "execution_count": 29,
   "metadata": {},
   "outputs": [
    {
     "name": "stdout",
     "output_type": "stream",
     "text": [
      "9 128\n"
     ]
    }
   ],
   "source": [
    "# your answer here\n",
    "# I guess the sample is good enough, it has the FT% column I can base this on. This column shows the success rate.\n",
    "# The players that never did any Free Throws have to be taken out of the sample.\n",
    "# Then the players can be devided into two groups: failing more than 40% or not. The CI can be computed for \n",
    "# each group. If they do not overlap, I can say there is a statistical distinction between good free throwers and bad ones.\n",
    "# Then I can count the numbers in the groups to get a percentage. If they do overlap, nothing can be said.\n",
    "# First it has to be checked if there is enough data for 2 groups to be formed\n",
    "ft_fail40plus = wnba[(wnba[\"FT%\"]<60) & (wnba[\"FTA\"]>0)]\n",
    "ft_win40plus = wnba[wnba[\"FT%\"]>=60]\n",
    "print(len(ft_fail40plus), len(ft_win40plus)) #9 in the failing group, 128 in the success group\n",
    "#9 is to small for a serious sample, but still trying..."
   ]
  },
  {
   "cell_type": "markdown",
   "metadata": {},
   "source": [
    "**Now that all the requirements have been taken into account, compute the confidence interval of the proportion with a confidence level of 95%:**"
   ]
  },
  {
   "cell_type": "code",
   "execution_count": 34,
   "metadata": {},
   "outputs": [
    {
     "name": "stdout",
     "output_type": "stream",
     "text": [
      "The confidence interval for 95% is (45.67922400170247, 57.542998220519756), for the group failing more often than 40%.\n",
      "The confidence interval for 95% is (78.8544980339935, 82.13300196600649), for the group winning more often than 40%.\n",
      "The confidence interval for 95% is (76.61801131713665, 80.57468941279032), for the total sample, anyone who ever tried a FT.\n"
     ]
    }
   ],
   "source": [
    "# your code here\n",
    "sampleF_mean = ft_fail40plus[\"FT%\"].mean()\n",
    "sampleF_std = ft_fail40plus[\"FT%\"].std(ddof=1)\n",
    "sampleF_n = len(ft_fail40plus[\"FT%\"])\n",
    "\n",
    "confidence_interval95_F = stats.t.interval(0.95, sampleF_n-1, loc = sampleF_mean, scale = sampleF_std/np.sqrt(sampleF_n))\n",
    "\n",
    "print(f\"The confidence interval for 95% is {confidence_interval95_F}, for the group failing more often than 40%.\")\n",
    "\n",
    "sampleW_mean = ft_win40plus[\"FT%\"].mean()\n",
    "sampleW_std = ft_win40plus[\"FT%\"].std(ddof=1)\n",
    "sampleW_n = len(ft_win40plus[\"FT%\"])\n",
    "\n",
    "confidence_interval95_W = stats.t.interval(0.95, sampleW_n-1, loc = sampleW_mean, scale = sampleW_std/np.sqrt(sampleW_n))\n",
    "\n",
    "print(f\"The confidence interval for 95% is {confidence_interval95_W}, for the group winning more often than 40%.\")\n",
    "\n",
    "sampleT_mean = wnba[wnba[\"FTA\"]>0][\"FT%\"].mean()\n",
    "sampleT_std = wnba[wnba[\"FTA\"]>0][\"FT%\"].std(ddof=1)\n",
    "sampleT_n = len(wnba[wnba[\"FTA\"]>0])\n",
    "\n",
    "confidence_interval95_T = stats.t.interval(0.95, sampleT_n-1, loc = sampleT_mean, scale = sampleT_std/np.sqrt(sampleT_n))\n",
    "\n",
    "print(f\"The confidence interval for 95% is {confidence_interval95_T}, for the total sample, anyone who ever tried a FT.\")"
   ]
  },
  {
   "cell_type": "markdown",
   "metadata": {},
   "source": [
    "**What can you comment about our result? What would you tell your sister?**"
   ]
  },
  {
   "cell_type": "code",
   "execution_count": 31,
   "metadata": {},
   "outputs": [
    {
     "data": {
      "text/plain": [
       "0.9343065693430657"
      ]
     },
     "execution_count": 31,
     "metadata": {},
     "output_type": "execute_result"
    }
   ],
   "source": [
    "#your-answer-here\n",
    "# There is a clear distinction, the two confidence intervals of winners making more than 40% of free throws \n",
    "# versus making less than 40% do not overlap. With 95% confidence, players are either good or bad at Free Throws.\n",
    "# So the percentage of good vs bad throwers in the sample is:\n",
    "bad_throwers_percent = len(ft_fail40plus)/len(wnba[(wnba[\"FTA\"]>0)]) # 0.06569343065693431\n",
    "good_throwers_percent = len(ft_win40plus)/len(wnba[(wnba[\"FTA\"]>0)]) # 0.9343065693430657\n",
    "\n",
    "#In this sample, 93 % of the players who did attempt free throws were good at it, with a success rate higher than 60%.\n",
    "#So no, the sister is not right, players do not generally miss more than 40% of Free Throws, only a few do.\n",
    "\n",
    "# Calculating the mean percentage for the total group, it falls with a confidence of 95% between 76 and 80 %. That is the \n",
    "# general success rate, which also puts the failure rate with 95% confidence only between 22% and 28%"
   ]
  },
  {
   "cell_type": "markdown",
   "metadata": {},
   "source": [
    "# Bonus: Can you plot the probability distribution of the proportion of missed free throws, indicating where the critical region is?"
   ]
  },
  {
   "cell_type": "code",
   "execution_count": null,
   "metadata": {},
   "outputs": [],
   "source": [
    "#your code here"
   ]
  },
  {
   "cell_type": "markdown",
   "metadata": {},
   "source": [
    "# Question 3: Is the average number of assists for WNBA players only higher than the average for WNBA and NBA players together?"
   ]
  },
  {
   "cell_type": "markdown",
   "metadata": {},
   "source": [
    "Your brother-in-law is convinced that the average assists for female professional players is higher than the average of both female and male players combined (which is 52 for the 2016-2017 season). You would like to actually prove if this is true or not but you remember your stats teacher saying \"you can't *prove* anything, you just can say that *you are not* saying foolishness\".\n",
    "\n",
    "**How would you do it? Try and think about the requirements that your sample must satisfy in order to do that. Do you feel it actually fulfills those requirements? Do you need to make any assumptions?**"
   ]
  },
  {
   "cell_type": "code",
   "execution_count": 16,
   "metadata": {},
   "outputs": [],
   "source": [
    "#your-answer-here\n",
    "# There is the column AST which counts assists. So I can check, if 52 is an average that would be reached with only the \n",
    "# WNBA players, and if that is not true, if only WNBA players are probable to show a higher average of assists."
   ]
  },
  {
   "cell_type": "markdown",
   "metadata": {},
   "source": [
    "**Use a two-tailed one-sample t-test to see if we can reject (or not) the null hypothesis with a 95% confidence level.**"
   ]
  },
  {
   "cell_type": "code",
   "execution_count": 37,
   "metadata": {},
   "outputs": [
    {
     "name": "stdout",
     "output_type": "stream",
     "text": [
      "Sample mean is 44.514084507042256 and sample std is 41.49078952999804.\n",
      "TtestResult(statistic=-2.1499947192482898, pvalue=0.033261541354107166, df=141)\n"
     ]
    },
    {
     "data": {
      "text/plain": [
       "True"
      ]
     },
     "execution_count": 37,
     "metadata": {},
     "output_type": "execute_result"
    }
   ],
   "source": [
    "#your code here\n",
    "# 1. Set the hypothesis\n",
    "# H0: mu = 52\n",
    "# H1: mu != 52\n",
    "mu = 52\n",
    "\n",
    "# 2. Choose significance / confidence level\n",
    "alpha = 0.05\n",
    "\n",
    "# 3. Sample\n",
    "# wnba[\"AST\"]\n",
    "\n",
    "# 4. Compute statistic\n",
    "# 5. Get p-value\n",
    "print(f'Sample mean is {wnba[\"AST\"].mean()} and sample std is {wnba[\"AST\"].std(ddof=1)}.')\n",
    "result = stats.ttest_1samp(wnba[\"AST\"], mu)\n",
    "print(result)\n",
    "\n",
    "# 6. Decide\n",
    "result.pvalue < alpha\n",
    "#To reject H0, \n",
    "# 1. p has to be smaller than alpha."
   ]
  },
  {
   "cell_type": "code",
   "execution_count": 39,
   "metadata": {},
   "outputs": [],
   "source": [
    "#your-answer-here\n",
    "## TRUE -> can reject H0 -> can say that the average number of assists for WNBA players is not 52"
   ]
  },
  {
   "cell_type": "markdown",
   "metadata": {},
   "source": [
    "**Now use a one-tailed one-sample t-test to see if we can reject (or not) the null hypothesis with a 95% confidence level.**"
   ]
  },
  {
   "cell_type": "code",
   "execution_count": 40,
   "metadata": {},
   "outputs": [
    {
     "name": "stdout",
     "output_type": "stream",
     "text": [
      "Sample mean is 44.514084507042256 and sample std is 41.49078952999804.\n",
      "TtestResult(statistic=-2.1499947192482898, pvalue=0.9833692293229463, df=141)\n"
     ]
    },
    {
     "data": {
      "text/plain": [
       "False"
      ]
     },
     "execution_count": 40,
     "metadata": {},
     "output_type": "execute_result"
    }
   ],
   "source": [
    "#your-answer-here\n",
    "# 1. Set the hypothesis\n",
    "# H0: mu <= 52\n",
    "# H1: mu > 52\n",
    "mu = 52\n",
    "\n",
    "# 2. Choose significance / confidence level\n",
    "alpha = 0.05\n",
    "\n",
    "# 3. Sample\n",
    "# wnba[\"AST\"]\n",
    "\n",
    "# 4. Compute statistic\n",
    "# 5. Get p-value\n",
    "print(f'Sample mean is {wnba[\"AST\"].mean()} and sample std is {wnba[\"AST\"].std(ddof=1)}.')\n",
    "result = stats.ttest_1samp(wnba[\"AST\"], mu, alternative=\"greater\")\n",
    "print(result)\n",
    "\n",
    "# 6. Decide\n",
    "result.pvalue < alpha\n",
    "#To reject H0, \n",
    "# 1. p has to be smaller than alpha.\n",
    "# 2. the sign of my statistic needs to be in the direction of the alternative\n",
    "## FALSE, and the sign of the statistic is (-), H1 is (+) -> can't reject H0 -> the average number of assists for WNBA players \n",
    "#  can't be proven to not be less than 52%."
   ]
  },
  {
   "cell_type": "markdown",
   "metadata": {},
   "source": [
    "# Bonus: Can you plot the resulting t-distribution of both tests? Indicate where the is the critical region and where does your statistic fall.**"
   ]
  },
  {
   "cell_type": "code",
   "execution_count": null,
   "metadata": {},
   "outputs": [],
   "source": [
    "#your code here"
   ]
  },
  {
   "cell_type": "markdown",
   "metadata": {},
   "source": [
    "# Bonus: Satisfying your curiosity\n",
    "\n",
    "You finally managed to solve your family's debates over basketball! While you were doing that you started to take an interest in the normal distribution.\n",
    "\n",
    "You read that the normal distribution is present in a lot of natural phenomenons, like blood pressure, IQ, weight and height. If, for example, we could plot the distribution of the weights of every human on the planet right now it would have the shape of a normal distribution.\n",
    "\n",
    "In light of this you would like to see if it's possible to check if the distribution of the weights of the WNBA players is a sample distribution that comes from a population that has a normal distribution, because theoretically this should be the case.\n",
    "\n",
    "**How would you try to demonstrate that our sample fits a normal distribution? What kind of test would you use? Would you have to make any assumptions?**"
   ]
  },
  {
   "cell_type": "code",
   "execution_count": null,
   "metadata": {},
   "outputs": [],
   "source": [
    "#your-answer-here\n",
    "\n",
    "# goodness of fit: \n",
    "# bin the weight data to get a frequency table\n",
    "# then get the distribution-curve, from that extract the expected values. \n",
    "# Then check if observed and expected are close enough."
   ]
  },
  {
   "cell_type": "code",
   "execution_count": 61,
   "metadata": {},
   "outputs": [
    {
     "data": {
      "image/png": "[encoded data removed]",
      "text/plain": [
       "<Figure size 640x480 with 1 Axes>"
      ]
     },
     "metadata": {},
     "output_type": "display_data"
    }
   ],
   "source": [
    "#visual check of data vs normal distribution:\n",
    "sample_mean = wnba[\"Weight\"].mean()\n",
    "sample_std = wnba[\"Weight\"].std(ddof=1)\n",
    "sample_n = len(wnba)\n",
    "\n",
    "x = np.arange(int(sample_mean-3*sample_std), int(sample_mean+3*sample_std), 0.1)\n",
    "pdf = stats.norm.pdf(x, sample_mean, sample_std)\n",
    "\n",
    "plt.plot(x, pdf*sample_n)\n",
    "plt.hist(wnba[\"Weight\"], sample_n)\n",
    "\n",
    "plt.show()"
   ]
  },
  {
   "cell_type": "code",
   "execution_count": null,
   "metadata": {},
   "outputs": [],
   "source": [
    "# could not get it to work with a normal distribution. so I did the comparison with poisson instead...\n",
    "# I would really be curious how to do it with a normal distribution!\n",
    "# my calculated expected probabilities never got correct, so I could not go on..."
   ]
  },
  {
   "cell_type": "code",
   "execution_count": 144,
   "metadata": {},
   "outputs": [
    {
     "name": "stdout",
     "output_type": "stream",
     "text": [
      "5.21830985915493\n",
      "12 142 [ 5 13 16 16 28 24 24  8  3  2  1  2]\n",
      "12 142.0 [ 4.01360872 10.47212697 18.21560114 23.76366275 24.80123113 21.57008482\n",
      " 16.07991232 10.48874563  6.08150275  3.17351657  1.50549026  1.83451695]\n",
      "Power_divergenceResult(statistic=11.01635140053842, pvalue=0.44189442426470077)\n",
      "False\n",
      "False -> I cannot reject the H0, this can be a poisson distribution.\n"
     ]
    },
    {
     "data": {
      "image/png": "[encoded data removed]",
      "text/plain": [
       "<Figure size 640x480 with 1 Axes>"
      ]
     },
     "metadata": {},
     "output_type": "display_data"
    }
   ],
   "source": [
    "# your code here\n",
    "# turn the Observation into frequency counts by binning them:\n",
    "bins = pd.cut(wnba[\"Weight\"], [50,60, 65,70,75,80,85,90,95,100,105,110,120], labels=[1,2,3,4,5,6,7,8,9,10,11,12])\n",
    "bins_sorted = bins.value_counts().sort_index()\n",
    "\n",
    "Obs = np.array(bins_sorted)\n",
    "mean = (np.array([(i+1)*val for i,val in enumerate(Obs)]).sum()/sum(Obs))\n",
    "print(mean) #bin number, not mean weight\n",
    "\n",
    "#go for poisson because I don't know how to with normal dist.\n",
    "from scipy.stats import poisson\n",
    "poisson_dist = poisson(mean)\n",
    "poisson_pmfs = np.array([poisson_dist.pmf(i) for i in range(1,12)])\n",
    "#append the last value for \"anything outside\":\n",
    "poisson_pmfs = np.append(poisson_pmfs, 1 - poisson_pmfs.sum())\n",
    "poisson_pmfs\n",
    "\n",
    "Exp = poisson_pmfs*sum(Obs)\n",
    "print(len(Obs), sum(Obs), Obs)\n",
    "print(len(Exp), sum(Exp), Exp)\n",
    "\n",
    "chisquare = stats.chisquare(f_obs = Obs, f_exp = Exp) \n",
    "print(chisquare)\n",
    "print(chisquare.pvalue < 0.05)\n",
    "print(\"False -> I cannot reject the H0, this can be a poisson distribution.\")\n",
    "\n",
    "##just for fun, visualize it:\n",
    "x = np.arange(1,13)\n",
    "plt.plot(x, Exp, \"r+\", label='poisson_dist')\n",
    "plt.plot(x, Obs, \"go\", label='real data')\n",
    "plt.legend()\n",
    "plt.show()"
   ]
  },
  {
   "cell_type": "markdown",
   "metadata": {},
   "source": [
    "**What are your comments in regards to the results of the test?**"
   ]
  },
  {
   "cell_type": "code",
   "execution_count": null,
   "metadata": {},
   "outputs": [],
   "source": [
    "#visually it looked good, but I could not make a goodness-of-fit-test with a normal distribution.\n",
    "#the binned data also fits well in a poisson distribution..."
   ]
  }
 ],
 "metadata": {
  "kernelspec": {
   "display_name": "Python 3 (ipykernel)",
   "language": "python",
   "name": "python3"
  },
  "language_info": {
   "codemirror_mode": {
    "name": "ipython",
    "version": 3
   },
   "file_extension": ".py",
   "mimetype": "text/x-python",
   "name": "python",
   "nbconvert_exporter": "python",
   "pygments_lexer": "ipython3",
   "version": "3.9.13"
  }
 },
 "nbformat": 4,
 "nbformat_minor": 2
}
