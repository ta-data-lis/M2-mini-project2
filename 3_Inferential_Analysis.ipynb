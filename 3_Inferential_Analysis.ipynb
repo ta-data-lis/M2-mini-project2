{
  "cells": [
    {
      "cell_type": "markdown",
      "metadata": {
        "id": "Uf-hnJxTg2AJ"
      },
      "source": [
        "# Inferential statistics\n",
        "## Part III - Inferential Analysis\n",
        "\n",
        "We're now going to look for answers to the ongoing basketball discussions between you and your family. The main ones we want to reasearch are the following:\n",
        "\n",
        "- Your grandmother says that your sister couldn't play in a professional basketball league (not only the WNBA, but ANY professional basketball league) because she's too skinny and lacks muscle.\n",
        "- Your sister says that most female professional players fail their free throws.\n",
        "- Your brother-in-law heard on the TV that the average assists among NBA (male) and WNBA (female) players is 52 for the 2016-2017 season. He is convinced this average would be higher if we only considered the players from the WNBA.\n",
        "\n",
        "Let's investigate these claims and see if we can find proof to refute or support them.\n",
        "\n",
        "### Libraries\n",
        "Import the necessary libraries first."
      ]
    },
    {
      "cell_type": "code",
      "execution_count": 1,
      "metadata": {
        "id": "NrQylzJAg2AK"
      },
      "outputs": [],
      "source": [
        "# Libraries\n",
        "import math\n",
        "import pandas as pd\n",
        "import numpy as np\n",
        "import scipy.stats as st\n",
        "import matplotlib.pyplot as plt\n",
        "from scipy.stats import ttest_1samp\n",
        "pd.set_option('display.max_columns', 50)"
      ]
    },
    {
      "cell_type": "markdown",
      "metadata": {
        "id": "I8_ZkJp5g2AL"
      },
      "source": [
        "### Load the dataset\n",
        "\n",
        "Load the cleaned dataset."
      ]
    },
    {
      "cell_type": "code",
      "execution_count": 3,
      "metadata": {
        "id": "wmGIbApIg2AL",
        "colab": {
          "base_uri": "https://localhost:8080/",
          "height": 330
        },
        "outputId": "11553b2b-67d7-4d66-815a-0e18ba517238"
      },
      "outputs": [
        {
          "output_type": "execute_result",
          "data": {
            "text/plain": [
              "              Name Team  Pos  Height  Weight        BMI Birth_Place  \\\n",
              "0    Aerial Powers  DAL    F     183    71.0  21.200991          US   \n",
              "1      Alana Beard   LA  G/F     185    73.0  21.329438          US   \n",
              "2     Alex Bentley  CON    G     170    69.0  23.875433          US   \n",
              "3  Alex Montgomery  SAN  G/F     185    84.0  24.543462          US   \n",
              "4     Alexis Jones  MIN    G     175    78.0  25.469388          US   \n",
              "\n",
              "           Birthdate  Age         College Experience  Games Played  MIN  FGM  \\\n",
              "0   January 17, 1994   23  Michigan State          2             8  173   30   \n",
              "1       May 14, 1982   35            Duke         12            30  947   90   \n",
              "2   October 27, 1990   26      Penn State          4            26  617   82   \n",
              "3  December 11, 1988   28    Georgia Tech          6            31  721   75   \n",
              "4     August 5, 1994   23          Baylor          R            24  137   16   \n",
              "\n",
              "   FGA   FG%  3PM  3PA   3P%  FTM  FTA   FT%  OREB  DREB  REB  AST  STL  BLK  \\\n",
              "0   85  35.3   12   32  37.5   21   26  80.8     6    22   28   12    3    6   \n",
              "1  177  50.8    5   18  27.8   32   41  78.0    19    82  101   72   63   13   \n",
              "2  218  37.6   19   64  29.7   35   42  83.3     4    36   40   78   22    3   \n",
              "3  195  38.5   21   68  30.9   17   21  81.0    35   134  169   65   20   10   \n",
              "4   50  32.0    7   20  35.0   11   12  91.7     3     9   12   12    7    0   \n",
              "\n",
              "   TO  PTS  DD2  TD3  \n",
              "0  12   93    0    0  \n",
              "1  40  217    0    0  \n",
              "2  24  218    0    0  \n",
              "3  38  188    2    0  \n",
              "4  14   50    0    0  "
            ],
            "text/html": [
              "\n",
              "  <div id=\"df-2eaa4cb2-1fd8-49b3-8417-303f7305e6e7\" class=\"colab-df-container\">\n",
              "    <div>\n",
              "<style scoped>\n",
              "    .dataframe tbody tr th:only-of-type {\n",
              "        vertical-align: middle;\n",
              "    }\n",
              "\n",
              "    .dataframe tbody tr th {\n",
              "        vertical-align: top;\n",
              "    }\n",
              "\n",
              "    .dataframe thead th {\n",
              "        text-align: right;\n",
              "    }\n",
              "</style>\n",
              "<table border=\"1\" class=\"dataframe\">\n",
              "  <thead>\n",
              "    <tr style=\"text-align: right;\">\n",
              "      <th></th>\n",
              "      <th>Name</th>\n",
              "      <th>Team</th>\n",
              "      <th>Pos</th>\n",
              "      <th>Height</th>\n",
              "      <th>Weight</th>\n",
              "      <th>BMI</th>\n",
              "      <th>Birth_Place</th>\n",
              "      <th>Birthdate</th>\n",
              "      <th>Age</th>\n",
              "      <th>College</th>\n",
              "      <th>Experience</th>\n",
              "      <th>Games Played</th>\n",
              "      <th>MIN</th>\n",
              "      <th>FGM</th>\n",
              "      <th>FGA</th>\n",
              "      <th>FG%</th>\n",
              "      <th>3PM</th>\n",
              "      <th>3PA</th>\n",
              "      <th>3P%</th>\n",
              "      <th>FTM</th>\n",
              "      <th>FTA</th>\n",
              "      <th>FT%</th>\n",
              "      <th>OREB</th>\n",
              "      <th>DREB</th>\n",
              "      <th>REB</th>\n",
              "      <th>AST</th>\n",
              "      <th>STL</th>\n",
              "      <th>BLK</th>\n",
              "      <th>TO</th>\n",
              "      <th>PTS</th>\n",
              "      <th>DD2</th>\n",
              "      <th>TD3</th>\n",
              "    </tr>\n",
              "  </thead>\n",
              "  <tbody>\n",
              "    <tr>\n",
              "      <th>0</th>\n",
              "      <td>Aerial Powers</td>\n",
              "      <td>DAL</td>\n",
              "      <td>F</td>\n",
              "      <td>183</td>\n",
              "      <td>71.0</td>\n",
              "      <td>21.200991</td>\n",
              "      <td>US</td>\n",
              "      <td>January 17, 1994</td>\n",
              "      <td>23</td>\n",
              "      <td>Michigan State</td>\n",
              "      <td>2</td>\n",
              "      <td>8</td>\n",
              "      <td>173</td>\n",
              "      <td>30</td>\n",
              "      <td>85</td>\n",
              "      <td>35.3</td>\n",
              "      <td>12</td>\n",
              "      <td>32</td>\n",
              "      <td>37.5</td>\n",
              "      <td>21</td>\n",
              "      <td>26</td>\n",
              "      <td>80.8</td>\n",
              "      <td>6</td>\n",
              "      <td>22</td>\n",
              "      <td>28</td>\n",
              "      <td>12</td>\n",
              "      <td>3</td>\n",
              "      <td>6</td>\n",
              "      <td>12</td>\n",
              "      <td>93</td>\n",
              "      <td>0</td>\n",
              "      <td>0</td>\n",
              "    </tr>\n",
              "    <tr>\n",
              "      <th>1</th>\n",
              "      <td>Alana Beard</td>\n",
              "      <td>LA</td>\n",
              "      <td>G/F</td>\n",
              "      <td>185</td>\n",
              "      <td>73.0</td>\n",
              "      <td>21.329438</td>\n",
              "      <td>US</td>\n",
              "      <td>May 14, 1982</td>\n",
              "      <td>35</td>\n",
              "      <td>Duke</td>\n",
              "      <td>12</td>\n",
              "      <td>30</td>\n",
              "      <td>947</td>\n",
              "      <td>90</td>\n",
              "      <td>177</td>\n",
              "      <td>50.8</td>\n",
              "      <td>5</td>\n",
              "      <td>18</td>\n",
              "      <td>27.8</td>\n",
              "      <td>32</td>\n",
              "      <td>41</td>\n",
              "      <td>78.0</td>\n",
              "      <td>19</td>\n",
              "      <td>82</td>\n",
              "      <td>101</td>\n",
              "      <td>72</td>\n",
              "      <td>63</td>\n",
              "      <td>13</td>\n",
              "      <td>40</td>\n",
              "      <td>217</td>\n",
              "      <td>0</td>\n",
              "      <td>0</td>\n",
              "    </tr>\n",
              "    <tr>\n",
              "      <th>2</th>\n",
              "      <td>Alex Bentley</td>\n",
              "      <td>CON</td>\n",
              "      <td>G</td>\n",
              "      <td>170</td>\n",
              "      <td>69.0</td>\n",
              "      <td>23.875433</td>\n",
              "      <td>US</td>\n",
              "      <td>October 27, 1990</td>\n",
              "      <td>26</td>\n",
              "      <td>Penn State</td>\n",
              "      <td>4</td>\n",
              "      <td>26</td>\n",
              "      <td>617</td>\n",
              "      <td>82</td>\n",
              "      <td>218</td>\n",
              "      <td>37.6</td>\n",
              "      <td>19</td>\n",
              "      <td>64</td>\n",
              "      <td>29.7</td>\n",
              "      <td>35</td>\n",
              "      <td>42</td>\n",
              "      <td>83.3</td>\n",
              "      <td>4</td>\n",
              "      <td>36</td>\n",
              "      <td>40</td>\n",
              "      <td>78</td>\n",
              "      <td>22</td>\n",
              "      <td>3</td>\n",
              "      <td>24</td>\n",
              "      <td>218</td>\n",
              "      <td>0</td>\n",
              "      <td>0</td>\n",
              "    </tr>\n",
              "    <tr>\n",
              "      <th>3</th>\n",
              "      <td>Alex Montgomery</td>\n",
              "      <td>SAN</td>\n",
              "      <td>G/F</td>\n",
              "      <td>185</td>\n",
              "      <td>84.0</td>\n",
              "      <td>24.543462</td>\n",
              "      <td>US</td>\n",
              "      <td>December 11, 1988</td>\n",
              "      <td>28</td>\n",
              "      <td>Georgia Tech</td>\n",
              "      <td>6</td>\n",
              "      <td>31</td>\n",
              "      <td>721</td>\n",
              "      <td>75</td>\n",
              "      <td>195</td>\n",
              "      <td>38.5</td>\n",
              "      <td>21</td>\n",
              "      <td>68</td>\n",
              "      <td>30.9</td>\n",
              "      <td>17</td>\n",
              "      <td>21</td>\n",
              "      <td>81.0</td>\n",
              "      <td>35</td>\n",
              "      <td>134</td>\n",
              "      <td>169</td>\n",
              "      <td>65</td>\n",
              "      <td>20</td>\n",
              "      <td>10</td>\n",
              "      <td>38</td>\n",
              "      <td>188</td>\n",
              "      <td>2</td>\n",
              "      <td>0</td>\n",
              "    </tr>\n",
              "    <tr>\n",
              "      <th>4</th>\n",
              "      <td>Alexis Jones</td>\n",
              "      <td>MIN</td>\n",
              "      <td>G</td>\n",
              "      <td>175</td>\n",
              "      <td>78.0</td>\n",
              "      <td>25.469388</td>\n",
              "      <td>US</td>\n",
              "      <td>August 5, 1994</td>\n",
              "      <td>23</td>\n",
              "      <td>Baylor</td>\n",
              "      <td>R</td>\n",
              "      <td>24</td>\n",
              "      <td>137</td>\n",
              "      <td>16</td>\n",
              "      <td>50</td>\n",
              "      <td>32.0</td>\n",
              "      <td>7</td>\n",
              "      <td>20</td>\n",
              "      <td>35.0</td>\n",
              "      <td>11</td>\n",
              "      <td>12</td>\n",
              "      <td>91.7</td>\n",
              "      <td>3</td>\n",
              "      <td>9</td>\n",
              "      <td>12</td>\n",
              "      <td>12</td>\n",
              "      <td>7</td>\n",
              "      <td>0</td>\n",
              "      <td>14</td>\n",
              "      <td>50</td>\n",
              "      <td>0</td>\n",
              "      <td>0</td>\n",
              "    </tr>\n",
              "  </tbody>\n",
              "</table>\n",
              "</div>\n",
              "    <div class=\"colab-df-buttons\">\n",
              "\n",
              "  <div class=\"colab-df-container\">\n",
              "    <button class=\"colab-df-convert\" onclick=\"convertToInteractive('df-2eaa4cb2-1fd8-49b3-8417-303f7305e6e7')\"\n",
              "            title=\"Convert this dataframe to an interactive table.\"\n",
              "            style=\"display:none;\">\n",
              "\n",
              "  <svg xmlns=\"http://www.w3.org/2000/svg\" height=\"24px\" viewBox=\"0 -960 960 960\">\n",
              "    <path d=\"M120-120v-720h720v720H120Zm60-500h600v-160H180v160Zm220 220h160v-160H400v160Zm0 220h160v-160H400v160ZM180-400h160v-160H180v160Zm440 0h160v-160H620v160ZM180-180h160v-160H180v160Zm440 0h160v-160H620v160Z\"/>\n",
              "  </svg>\n",
              "    </button>\n",
              "\n",
              "  <style>\n",
              "    .colab-df-container {\n",
              "      display:flex;\n",
              "      gap: 12px;\n",
              "    }\n",
              "\n",
              "    .colab-df-convert {\n",
              "      background-color: #E8F0FE;\n",
              "      border: none;\n",
              "      border-radius: 50%;\n",
              "      cursor: pointer;\n",
              "      display: none;\n",
              "      fill: #1967D2;\n",
              "      height: 32px;\n",
              "      padding: 0 0 0 0;\n",
              "      width: 32px;\n",
              "    }\n",
              "\n",
              "    .colab-df-convert:hover {\n",
              "      background-color: #E2EBFA;\n",
              "      box-shadow: 0px 1px 2px rgba(60, 64, 67, 0.3), 0px 1px 3px 1px rgba(60, 64, 67, 0.15);\n",
              "      fill: #174EA6;\n",
              "    }\n",
              "\n",
              "    .colab-df-buttons div {\n",
              "      margin-bottom: 4px;\n",
              "    }\n",
              "\n",
              "    [theme=dark] .colab-df-convert {\n",
              "      background-color: #3B4455;\n",
              "      fill: #D2E3FC;\n",
              "    }\n",
              "\n",
              "    [theme=dark] .colab-df-convert:hover {\n",
              "      background-color: #434B5C;\n",
              "      box-shadow: 0px 1px 3px 1px rgba(0, 0, 0, 0.15);\n",
              "      filter: drop-shadow(0px 1px 2px rgba(0, 0, 0, 0.3));\n",
              "      fill: #FFFFFF;\n",
              "    }\n",
              "  </style>\n",
              "\n",
              "    <script>\n",
              "      const buttonEl =\n",
              "        document.querySelector('#df-2eaa4cb2-1fd8-49b3-8417-303f7305e6e7 button.colab-df-convert');\n",
              "      buttonEl.style.display =\n",
              "        google.colab.kernel.accessAllowed ? 'block' : 'none';\n",
              "\n",
              "      async function convertToInteractive(key) {\n",
              "        const element = document.querySelector('#df-2eaa4cb2-1fd8-49b3-8417-303f7305e6e7');\n",
              "        const dataTable =\n",
              "          await google.colab.kernel.invokeFunction('convertToInteractive',\n",
              "                                                    [key], {});\n",
              "        if (!dataTable) return;\n",
              "\n",
              "        const docLinkHtml = 'Like what you see? Visit the ' +\n",
              "          '<a target=\"_blank\" href=https://colab.research.google.com/notebooks/data_table.ipynb>data table notebook</a>'\n",
              "          + ' to learn more about interactive tables.';\n",
              "        element.innerHTML = '';\n",
              "        dataTable['output_type'] = 'display_data';\n",
              "        await google.colab.output.renderOutput(dataTable, element);\n",
              "        const docLink = document.createElement('div');\n",
              "        docLink.innerHTML = docLinkHtml;\n",
              "        element.appendChild(docLink);\n",
              "      }\n",
              "    </script>\n",
              "  </div>\n",
              "\n",
              "\n",
              "<div id=\"df-25909997-69e8-487b-90a0-852f2f01c81f\">\n",
              "  <button class=\"colab-df-quickchart\" onclick=\"quickchart('df-25909997-69e8-487b-90a0-852f2f01c81f')\"\n",
              "            title=\"Suggest charts\"\n",
              "            style=\"display:none;\">\n",
              "\n",
              "<svg xmlns=\"http://www.w3.org/2000/svg\" height=\"24px\"viewBox=\"0 0 24 24\"\n",
              "     width=\"24px\">\n",
              "    <g>\n",
              "        <path d=\"M19 3H5c-1.1 0-2 .9-2 2v14c0 1.1.9 2 2 2h14c1.1 0 2-.9 2-2V5c0-1.1-.9-2-2-2zM9 17H7v-7h2v7zm4 0h-2V7h2v10zm4 0h-2v-4h2v4z\"/>\n",
              "    </g>\n",
              "</svg>\n",
              "  </button>\n",
              "\n",
              "<style>\n",
              "  .colab-df-quickchart {\n",
              "      --bg-color: #E8F0FE;\n",
              "      --fill-color: #1967D2;\n",
              "      --hover-bg-color: #E2EBFA;\n",
              "      --hover-fill-color: #174EA6;\n",
              "      --disabled-fill-color: #AAA;\n",
              "      --disabled-bg-color: #DDD;\n",
              "  }\n",
              "\n",
              "  [theme=dark] .colab-df-quickchart {\n",
              "      --bg-color: #3B4455;\n",
              "      --fill-color: #D2E3FC;\n",
              "      --hover-bg-color: #434B5C;\n",
              "      --hover-fill-color: #FFFFFF;\n",
              "      --disabled-bg-color: #3B4455;\n",
              "      --disabled-fill-color: #666;\n",
              "  }\n",
              "\n",
              "  .colab-df-quickchart {\n",
              "    background-color: var(--bg-color);\n",
              "    border: none;\n",
              "    border-radius: 50%;\n",
              "    cursor: pointer;\n",
              "    display: none;\n",
              "    fill: var(--fill-color);\n",
              "    height: 32px;\n",
              "    padding: 0;\n",
              "    width: 32px;\n",
              "  }\n",
              "\n",
              "  .colab-df-quickchart:hover {\n",
              "    background-color: var(--hover-bg-color);\n",
              "    box-shadow: 0 1px 2px rgba(60, 64, 67, 0.3), 0 1px 3px 1px rgba(60, 64, 67, 0.15);\n",
              "    fill: var(--button-hover-fill-color);\n",
              "  }\n",
              "\n",
              "  .colab-df-quickchart-complete:disabled,\n",
              "  .colab-df-quickchart-complete:disabled:hover {\n",
              "    background-color: var(--disabled-bg-color);\n",
              "    fill: var(--disabled-fill-color);\n",
              "    box-shadow: none;\n",
              "  }\n",
              "\n",
              "  .colab-df-spinner {\n",
              "    border: 2px solid var(--fill-color);\n",
              "    border-color: transparent;\n",
              "    border-bottom-color: var(--fill-color);\n",
              "    animation:\n",
              "      spin 1s steps(1) infinite;\n",
              "  }\n",
              "\n",
              "  @keyframes spin {\n",
              "    0% {\n",
              "      border-color: transparent;\n",
              "      border-bottom-color: var(--fill-color);\n",
              "      border-left-color: var(--fill-color);\n",
              "    }\n",
              "    20% {\n",
              "      border-color: transparent;\n",
              "      border-left-color: var(--fill-color);\n",
              "      border-top-color: var(--fill-color);\n",
              "    }\n",
              "    30% {\n",
              "      border-color: transparent;\n",
              "      border-left-color: var(--fill-color);\n",
              "      border-top-color: var(--fill-color);\n",
              "      border-right-color: var(--fill-color);\n",
              "    }\n",
              "    40% {\n",
              "      border-color: transparent;\n",
              "      border-right-color: var(--fill-color);\n",
              "      border-top-color: var(--fill-color);\n",
              "    }\n",
              "    60% {\n",
              "      border-color: transparent;\n",
              "      border-right-color: var(--fill-color);\n",
              "    }\n",
              "    80% {\n",
              "      border-color: transparent;\n",
              "      border-right-color: var(--fill-color);\n",
              "      border-bottom-color: var(--fill-color);\n",
              "    }\n",
              "    90% {\n",
              "      border-color: transparent;\n",
              "      border-bottom-color: var(--fill-color);\n",
              "    }\n",
              "  }\n",
              "</style>\n",
              "\n",
              "  <script>\n",
              "    async function quickchart(key) {\n",
              "      const quickchartButtonEl =\n",
              "        document.querySelector('#' + key + ' button');\n",
              "      quickchartButtonEl.disabled = true;  // To prevent multiple clicks.\n",
              "      quickchartButtonEl.classList.add('colab-df-spinner');\n",
              "      try {\n",
              "        const charts = await google.colab.kernel.invokeFunction(\n",
              "            'suggestCharts', [key], {});\n",
              "      } catch (error) {\n",
              "        console.error('Error during call to suggestCharts:', error);\n",
              "      }\n",
              "      quickchartButtonEl.classList.remove('colab-df-spinner');\n",
              "      quickchartButtonEl.classList.add('colab-df-quickchart-complete');\n",
              "    }\n",
              "    (() => {\n",
              "      let quickchartButtonEl =\n",
              "        document.querySelector('#df-25909997-69e8-487b-90a0-852f2f01c81f button');\n",
              "      quickchartButtonEl.style.display =\n",
              "        google.colab.kernel.accessAllowed ? 'block' : 'none';\n",
              "    })();\n",
              "  </script>\n",
              "</div>\n",
              "    </div>\n",
              "  </div>\n"
            ]
          },
          "metadata": {},
          "execution_count": 3
        }
      ],
      "source": [
        "#my cleaned dataset\n",
        "\n",
        "wnba = pd.read_csv(\"/content/1_Data_Cleaning_wnba_cleaned.csv\")\n",
        "wnba.head()"
      ]
    },
    {
      "cell_type": "markdown",
      "metadata": {
        "id": "pKw0Hx9bg2AL"
      },
      "source": [
        "# Question 1: Can my sister play in a professional female basketball league?\n",
        "\n",
        "As we said, you grandmother is convinced that your sister couldn't play in a professional league because of her physique and weight (her weight is 67kg).\n",
        "\n",
        "To find an actual answer to the question we first need to know what's the average weight of a professional female basketball player. The data we have only refers to the WNBA league and not to every female professional basketball league in the world, therefore we have no way of actually calculating it.\n",
        "\n",
        "Still, given that we do have *some* data we can **infer** it using a sample of players like the one we have.\n",
        "\n",
        "**How would you do it? Try and think about the requirements that your sample must satisfy in order to be used to infer the average weight. Do you feel it actually fulfills those requirements? Do you need to make any assumptions? We could calculate a confidence interval to do the inference, but do you know any other ways?**"
      ]
    },
    {
      "cell_type": "code",
      "source": [
        "#1. My Hypothesis are bad written (?)\n",
        "\n",
        "# H0: The weight mu for a professional female basketball player is ----> greater than or equal to 67.\n",
        "# H1: The sister's weight is an obstacle and she will never fulfill her dream because she's too skinny -----> less than 67.\n",
        "\n",
        "# sample\n",
        "sample_weight = wnba[\"Weight\"]\n",
        "\n",
        "st.ttest_1samp(sample_weight, 67, alternative = \"less\")"
      ],
      "metadata": {
        "colab": {
          "base_uri": "https://localhost:8080/"
        },
        "id": "tC6kCXQKi2Zl",
        "outputId": "d68004f5-55e6-4c63-f28b-606c8d0ae180"
      },
      "execution_count": null,
      "outputs": [
        {
          "output_type": "execute_result",
          "data": {
            "text/plain": [
              "TtestResult(statistic=12.981385575989545, pvalue=1.0, df=141)"
            ]
          },
          "metadata": {},
          "execution_count": 16
        }
      ]
    },
    {
      "cell_type": "code",
      "execution_count": null,
      "metadata": {
        "colab": {
          "base_uri": "https://localhost:8080/"
        },
        "id": "vzoi3HPxg2AL",
        "outputId": "7b7a6b2e-7101-4298-9d85-a2b0e624e8fe"
      },
      "outputs": [
        {
          "output_type": "stream",
          "name": "stdout",
          "text": [
            "I can not reject the null hypothesis\n"
          ]
        }
      ],
      "source": [
        "# to answer the question:\n",
        "\n",
        "stats = st.ttest_1samp(sample_weight, 67, alternative = \"less\")[0]\n",
        "p_value = st.ttest_1samp(sample_weight, 67, alternative = \"less\")[1]\n",
        "\n",
        "if p_value > 0.05:\n",
        "  print(\"I can not reject the null hypothesis\")\n",
        "else:\n",
        "  print(\"We can reject the null hypothesis\")"
      ]
    },
    {
      "cell_type": "markdown",
      "metadata": {
        "id": "XFSiILW6g2AL"
      },
      "source": [
        "**Now that all the requirements have been taken into account, compute the confidence interval of the average weight with a confidence level of 95%.**"
      ]
    },
    {
      "cell_type": "code",
      "source": [
        "# from houses near/far\n",
        "\n",
        "# 1. We need a sample\n",
        "# 2. the mean of the sample\n",
        "# 3. number observations\n",
        "# 4. The std of the population\n",
        "\n",
        "# 1.\n",
        "sample_weight = wnba[\"Weight\"]\n",
        "\n",
        "# 2. sample mean\n",
        "mean = wnba[\"Weight\"].mean()\n",
        "\n",
        "# 3. print(sample_weight.count())\n",
        "n = 142\n",
        "\n",
        "# 4.\n",
        "std = wnba[\"Weight\"].std()\n",
        "\n",
        "# now we can build our 95% interval\n",
        "print(\"left end: \", mean - 2*(std/np.sqrt(n-1)))\n",
        "print(\"right end: \", mean + 2*(std/np.sqrt(n-1)))"
      ],
      "metadata": {
        "colab": {
          "base_uri": "https://localhost:8080/"
        },
        "id": "q3JpoNkynw16",
        "outputId": "6c07ccdc-fe68-4677-f533-c6224f6940b8"
      },
      "execution_count": null,
      "outputs": [
        {
          "output_type": "stream",
          "name": "stdout",
          "text": [
            "left end:  77.1267941385151\n",
            "right end:  80.83095234035815\n"
          ]
        }
      ]
    },
    {
      "cell_type": "markdown",
      "metadata": {
        "id": "RIpOBFcmg2AM"
      },
      "source": [
        "**What can you say about these results?**"
      ]
    },
    {
      "cell_type": "code",
      "source": [
        "\"\"\" with left end:  77.1267941385151 and right end:  80.83095234035815 and with 95% confidence, we can estimate - with wbna sample - that the true average\n",
        "weight for female players is between these values.\n",
        "\n",
        "From this interval, maybe granny is a little right because her weight is actually significantly different from the average weight.\n",
        "STILL, it's a sample and weight is not decisive, in my opinion"
      ],
      "metadata": {
        "id": "GIm5Ld4Tt4be"
      },
      "execution_count": null,
      "outputs": []
    },
    {
      "cell_type": "markdown",
      "metadata": {
        "id": "nP_gVDQ0g2AM"
      },
      "source": [
        "**If your sister weighs 67kg what would you tell your grandmother in regards to her assumption?**"
      ]
    },
    {
      "cell_type": "code",
      "execution_count": null,
      "metadata": {
        "id": "x2F-NjPWg2AM"
      },
      "outputs": [],
      "source": [
        "# we know the drill: mothers(grannies) are always right <3 :)"
      ]
    },
    {
      "cell_type": "markdown",
      "metadata": {
        "id": "Qpfw5lZwg2AM"
      },
      "source": [
        "## Bonus: Can you plot the probability distribution of the average weight, indicating where the critical region is?"
      ]
    },
    {
      "cell_type": "markdown",
      "metadata": {
        "id": "JumRYxuxg2AM"
      },
      "source": [
        "# Question 2: Do female professional basketball players fail the majority of their free throws?\n",
        "\n",
        "You do not agree with your sister when she says that most female players fail their free throws. You decide to try and estimate the percentage of players that fail more than 40% of their free throws using, you guessed it, the WNBA sample.\n",
        "\n",
        "**How would you do it? Try and think about the requirements that your sample must satisfy in order to be used to infer the proportion of players that miss more than 40% of their free throws. Do you feel it actually fulfills those requirements? Do you need to make any assumptions?**"
      ]
    },
    {
      "cell_type": "code",
      "source": [
        "wnba.shape"
      ],
      "metadata": {
        "colab": {
          "base_uri": "https://localhost:8080/"
        },
        "id": "CoquXO7cF13N",
        "outputId": "aac40fbd-0e88-407a-c9db-1c24dc17a4ef"
      },
      "execution_count": null,
      "outputs": [
        {
          "output_type": "execute_result",
          "data": {
            "text/plain": [
              "(142, 32)"
            ]
          },
          "metadata": {},
          "execution_count": 36
        }
      ]
    },
    {
      "cell_type": "code",
      "source": [
        "wnba"
      ],
      "metadata": {
        "id": "GdfS9yjzozB6"
      },
      "execution_count": null,
      "outputs": []
    },
    {
      "cell_type": "code",
      "execution_count": null,
      "metadata": {
        "id": "bJvZlrUcg2AM",
        "colab": {
          "base_uri": "https://localhost:8080/"
        },
        "outputId": "1ab9d3b4-7e74-43d6-b523-aabee599e68d"
      },
      "outputs": [
        {
          "output_type": "stream",
          "name": "stdout",
          "text": [
            "The mean percentage of success in free throws is: 78.59271907346114\n"
          ]
        }
      ],
      "source": [
        "# H0: Players in wnba fail less than 40% of their free throws -------- > fails <= 40% p = 0.6\n",
        "# H1: Players in wnba that fail more than 40% of their free throws --- > fails > 40%\n",
        "\n",
        "# Your sister says that most female professional players fail their free throws.\n",
        "FT_percentage = (wnba[\"FTM\"] / wnba[\"FTA\"]) * 100 # this is in total of course.\n",
        "print(\"The mean percentage of success in free throws is:\",FT_percentage.mean())  # so let's check it out:"
      ]
    },
    {
      "cell_type": "code",
      "source": [
        "## The sample proportion is then: P = M/N\n",
        "successes = wnba[\"FTM\"].sum()\n",
        "sample = wnba[\"FTA\"].sum()\n",
        "\n",
        "## Sample proportion :\n",
        "sample_p = successes/ sample  #### djius.. this is points / attempts\n",
        "sample_p\n",
        "\n",
        "## N = sample\n",
        "n = len(wnba[\"FTA\"]) # dunno... this is all players\n",
        "\n",
        "# to get the standard error\n",
        "std_error = np.sqrt(sample_p * (1 - sample_p) / n) ##### ddof = 1 ???\n",
        "std_error\n",
        "\n",
        "# the mean --- >  μˆP = p # so the proportion of successes will actually work as my mean ---- i think so"
      ],
      "metadata": {
        "id": "MwDeXXvZIRNQ"
      },
      "execution_count": null,
      "outputs": []
    },
    {
      "cell_type": "markdown",
      "metadata": {
        "id": "CpuSzepbg2AN"
      },
      "source": [
        "**Now that all the requirements have been taken into account, compute the confidence interval of the proportion with a confidence level of 95%:**"
      ]
    },
    {
      "cell_type": "code",
      "execution_count": 5,
      "metadata": {
        "id": "LIIZlILXg2AN"
      },
      "outputs": [],
      "source": [
        "conf_at_95 = st.norm.interval(0.95, loc = sample_p, scale = std_error)\n",
        "left_end = conf_at_95[0]\n",
        "right_end = conf_at_95[1]"
      ]
    },
    {
      "cell_type": "markdown",
      "metadata": {
        "id": "chYKYLtgg2AN"
      },
      "source": [
        "**What can you comment about our result? What would you tell your sister?**"
      ]
    },
    {
      "cell_type": "code",
      "execution_count": 6,
      "metadata": {
        "id": "rsz9Rw50g2AN",
        "colab": {
          "base_uri": "https://localhost:8080/"
        },
        "outputId": "3fc6ab77-2b42-458f-9a2d-2e557b34a19e"
      },
      "outputs": [
        {
          "output_type": "stream",
          "name": "stdout",
          "text": [
            "wnba players fail betwenn 13.425935687396995 % and 26.585463571651157 %\n"
          ]
        }
      ],
      "source": [
        "# actually players in wnba fail less than 40% of their free throws\n",
        "print(\"wnba players fail betwenn\", (1 - right_end)*100,\"% and\",(1 - left_end)*100,\"%\")"
      ]
    },
    {
      "cell_type": "markdown",
      "metadata": {
        "id": "_OMEWZAmg2AN"
      },
      "source": [
        "# Bonus: Can you plot the probability distribution of the proportion of missed free throws, indicating where the critical region is?"
      ]
    },
    {
      "cell_type": "code",
      "execution_count": null,
      "metadata": {
        "id": "4BpqrHt-g2AN"
      },
      "outputs": [],
      "source": [
        "#your code here"
      ]
    },
    {
      "cell_type": "markdown",
      "metadata": {
        "id": "lqepolv6g2AN"
      },
      "source": [
        "# Question 3: Is the average number of assists for WNBA players only higher than the average for WNBA and NBA players together?"
      ]
    },
    {
      "cell_type": "markdown",
      "metadata": {
        "id": "D73hSwcYg2AN"
      },
      "source": [
        "Your brother-in-law is convinced that the average assists for female professional players is higher than the average of both female and male players combined (which is 52 for the 2016-2017 season). You would like to actually prove if this is true or not but you remember your stats teacher saying \"you can't *prove* anything, you just can say that *you are not* saying foolishness\".\n",
        "\n",
        "**How would you do it? Try and think about the requirements that your sample must satisfy in order to do that. Do you feel it actually fulfills those requirements? Do you need to make any assumptions?**"
      ]
    },
    {
      "cell_type": "code",
      "source": [
        "ast_mean = wnba[\"AST\"].mean()\n",
        "print(\"The mean of assists in wnba is:\",ast_mean.mean())  # so let's check it out:"
      ],
      "metadata": {
        "colab": {
          "base_uri": "https://localhost:8080/"
        },
        "id": "XGqhm2J4bmmE",
        "outputId": "504f386e-35cd-4bda-ac2c-2be07778d068"
      },
      "execution_count": 24,
      "outputs": [
        {
          "output_type": "stream",
          "name": "stdout",
          "text": [
            "The mean of assists in wnba is: 44.514084507042256\n"
          ]
        }
      ]
    },
    {
      "cell_type": "markdown",
      "metadata": {
        "id": "Z8A3cwGBg2AN"
      },
      "source": [
        "**Use a two-tailed one-sample t-test to see if we can reject (or not) the null hypothesis with a 95% confidence level.**"
      ]
    },
    {
      "cell_type": "code",
      "execution_count": 37,
      "metadata": {
        "id": "DvwEv6Smg2AN",
        "colab": {
          "base_uri": "https://localhost:8080/"
        },
        "outputId": "211e0ab8-55e0-40ac-916e-49a10eee7b10"
      },
      "outputs": [
        {
          "output_type": "execute_result",
          "data": {
            "text/plain": [
              "TtestResult(statistic=-2.1499947192482898, pvalue=0.033261541354107166, df=141)"
            ]
          },
          "metadata": {},
          "execution_count": 37
        }
      ],
      "source": [
        "# 1.\n",
        "# H0: mu female assists = 52\n",
        "# H1: mu female assists != 52\n",
        "\n",
        "# 2. significance level\n",
        "alpha = 0.05\n",
        "\n",
        "# sample\n",
        "ast_sample = wnba[\"AST\"]#.sample(30) should I sample?\n",
        "\n",
        "# for stats and p\n",
        "st.ttest_1samp(ast_sample, 52, alternative = \"two-sided\") # equal is actually default, but like this, looks like I'm inteligent :D"
      ]
    },
    {
      "cell_type": "code",
      "source": [
        "stats, p_value = st.ttest_1samp(ast_sample, 52, alternative = \"two-sided\")\n",
        "print(p_value)\n",
        "print(stats)\n",
        "\n",
        "if p_value > 0.05:\n",
        "  print(\"I can not reject the null hypothesis\")\n",
        "else:\n",
        "  print(\"We can reject the null hypothesis\")"
      ],
      "metadata": {
        "colab": {
          "base_uri": "https://localhost:8080/"
        },
        "id": "WxnNQtF0_JRf",
        "outputId": "74c150f5-aa70-4b4f-89b0-fb06f4fa3d5c"
      },
      "execution_count": 39,
      "outputs": [
        {
          "output_type": "stream",
          "name": "stdout",
          "text": [
            "0.033261541354107166\n",
            "-2.1499947192482898\n",
            "We can reject the null hypothesis\n"
          ]
        }
      ]
    },
    {
      "cell_type": "code",
      "source": [
        "# Because p_value is lower than significance level ---> sure we know that the null has to go"
      ],
      "metadata": {
        "id": "XWfw8SB8_Ihv"
      },
      "execution_count": null,
      "outputs": []
    },
    {
      "cell_type": "markdown",
      "metadata": {
        "id": "-z97C0qkg2AO"
      },
      "source": [
        "**Now use a one-tailed one-sample t-test to see if we can reject (or not) the null hypothesis with a 95% confidence level.**"
      ]
    },
    {
      "cell_type": "code",
      "execution_count": 41,
      "metadata": {
        "id": "xq9QdYbbg2AO",
        "colab": {
          "base_uri": "https://localhost:8080/"
        },
        "outputId": "a859f1f8-1f11-4577-97c6-85adb441c39e"
      },
      "outputs": [
        {
          "output_type": "stream",
          "name": "stdout",
          "text": [
            "0.9833692293229463\n",
            "-2.1499947192482898\n",
            "I can not reject the null hypothesis\n"
          ]
        }
      ],
      "source": [
        "# H0: mu female assists <= 52\n",
        "# H1: mu female assists > 52\n",
        "\n",
        "stats, p_value = st.ttest_1samp(ast_sample, 52, alternative = \"greater\")\n",
        "print(p_value)\n",
        "print(stats)\n",
        "\n",
        "if p_value > 0.05:\n",
        "  print(\"I can not reject the null hypothesis\")\n",
        "else:\n",
        "  print(\"We can reject the null hypothesis\")"
      ]
    },
    {
      "cell_type": "code",
      "source": [],
      "metadata": {
        "id": "fLvXQsAtDxF2"
      },
      "execution_count": null,
      "outputs": []
    },
    {
      "cell_type": "markdown",
      "metadata": {
        "id": "5Nh_-ZTmg2AO"
      },
      "source": [
        "# Bonus: Can you plot the resulting t-distribution of both tests? Indicate where the is the critical region and where does your statistic fall.**"
      ]
    },
    {
      "cell_type": "code",
      "execution_count": null,
      "metadata": {
        "id": "TV0q8038g2AO"
      },
      "outputs": [],
      "source": [
        "#your code here"
      ]
    },
    {
      "cell_type": "markdown",
      "metadata": {
        "id": "DiIIPGPxg2AO"
      },
      "source": [
        "# Bonus: Satisfying your curiosity\n",
        "\n",
        "You finally managed to solve your family's debates over basketball! While you were doing that you started to take an interest in the normal distribution.\n",
        "\n",
        "You read that the normal distribution is present in a lot of natural phenomenons, like blood pressure, IQ, weight and height. If, for example, we could plot the distribution of the weights of every human on the planet right now it would have the shape of a normal distribution.\n",
        "\n",
        "In light of this you would like to see if it's possible to check if the distribution of the weights of the WNBA players is a sample distribution that comes from a population that has a normal distribution, because theoretically this should be the case.\n",
        "\n",
        "**How would you try to demonstrate that our sample fits a normal distribution? What kind of test would you use? Would you have to make any assumptions?**"
      ]
    },
    {
      "cell_type": "code",
      "execution_count": null,
      "metadata": {
        "id": "fSlo2glrg2AO"
      },
      "outputs": [],
      "source": [
        "#your-answer-here"
      ]
    },
    {
      "cell_type": "code",
      "execution_count": null,
      "metadata": {
        "id": "KGrLR4x5g2AO"
      },
      "outputs": [],
      "source": [
        "# your code here"
      ]
    },
    {
      "cell_type": "markdown",
      "metadata": {
        "id": "jpErGRWIg2AO"
      },
      "source": [
        "**What are your comments in regards to the results of the test?**"
      ]
    },
    {
      "cell_type": "code",
      "execution_count": null,
      "metadata": {
        "id": "Lq8XlXmyg2AO"
      },
      "outputs": [],
      "source": [
        "#your-answer-here"
      ]
    }
  ],
  "metadata": {
    "kernelspec": {
      "display_name": "Python 3",
      "language": "python",
      "name": "python3"
    },
    "language_info": {
      "codemirror_mode": {
        "name": "ipython",
        "version": 3
      },
      "file_extension": ".py",
      "mimetype": "text/x-python",
      "name": "python",
      "nbconvert_exporter": "python",
      "pygments_lexer": "ipython3",
      "version": "3.6.8"
    },
    "colab": {
      "provenance": []
    }
  },
  "nbformat": 4,
  "nbformat_minor": 0
}